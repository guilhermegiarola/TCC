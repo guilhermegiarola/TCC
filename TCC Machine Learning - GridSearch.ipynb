{
 "cells": [
  {
   "cell_type": "code",
   "execution_count": 1,
   "metadata": {},
   "outputs": [],
   "source": [
    "import pandas as pd\n",
    "import numpy as np\n",
    "import io, re\n",
    "from unidecode import unidecode\n",
    "from gensim.models import KeyedVectors\n",
    "from nltk.tokenize import word_tokenize"
   ]
  },
  {
   "cell_type": "code",
   "execution_count": 2,
   "metadata": {},
   "outputs": [],
   "source": [
    "archive = \"Corpus.csv\""
   ]
  },
  {
   "cell_type": "code",
   "execution_count": 3,
   "metadata": {},
   "outputs": [],
   "source": [
    "with open(archive, 'r') as myfile:\n",
    "    data = myfile.read().encode('latin1').decode('utf8')\n",
    "    df = pd.read_csv(io.StringIO(re.sub('\"\\s*\\n','\"',data)), delimiter=',')"
   ]
  },
  {
   "cell_type": "code",
   "execution_count": 4,
   "metadata": {},
   "outputs": [
    {
     "data": {
      "text/html": [
       "<div>\n",
       "<style scoped>\n",
       "    .dataframe tbody tr th:only-of-type {\n",
       "        vertical-align: middle;\n",
       "    }\n",
       "\n",
       "    .dataframe tbody tr th {\n",
       "        vertical-align: top;\n",
       "    }\n",
       "\n",
       "    .dataframe thead th {\n",
       "        text-align: right;\n",
       "    }\n",
       "</style>\n",
       "<table border=\"1\" class=\"dataframe\">\n",
       "  <thead>\n",
       "    <tr style=\"text-align: right;\">\n",
       "      <th></th>\n",
       "      <th>#</th>\n",
       "      <th>Frases</th>\n",
       "      <th>Tipo</th>\n",
       "      <th>Resposta</th>\n",
       "      <th>Ação a ser Realizada</th>\n",
       "      <th>Ações Necessárias</th>\n",
       "    </tr>\n",
       "  </thead>\n",
       "  <tbody>\n",
       "    <tr>\n",
       "      <th>0</th>\n",
       "      <td>1</td>\n",
       "      <td>Ligar luz</td>\n",
       "      <td>Explicito</td>\n",
       "      <td>Acendendo a lâmpada.</td>\n",
       "      <td>Acender a Lâmpada</td>\n",
       "      <td>Acender a Lâmpada</td>\n",
       "    </tr>\n",
       "    <tr>\n",
       "      <th>1</th>\n",
       "      <td>2</td>\n",
       "      <td>Ligar a luz</td>\n",
       "      <td>Explicito</td>\n",
       "      <td>Acendendo a lâmpada.</td>\n",
       "      <td>Acender a Lâmpada</td>\n",
       "      <td>Apagar Lâmpada</td>\n",
       "    </tr>\n",
       "    <tr>\n",
       "      <th>2</th>\n",
       "      <td>3</td>\n",
       "      <td>Iluminar o ambiente</td>\n",
       "      <td>Implicito</td>\n",
       "      <td>Deseja acender a lâmpada?</td>\n",
       "      <td>Acender a Lâmpada</td>\n",
       "      <td>Ligar Ventilador</td>\n",
       "    </tr>\n",
       "    <tr>\n",
       "      <th>3</th>\n",
       "      <td>4</td>\n",
       "      <td>Já está claro o dia!</td>\n",
       "      <td>Implicito</td>\n",
       "      <td>Apagando a lâmpada.</td>\n",
       "      <td>Apagar Lâmpada</td>\n",
       "      <td>Desligar Ventilador</td>\n",
       "    </tr>\n",
       "    <tr>\n",
       "      <th>4</th>\n",
       "      <td>5</td>\n",
       "      <td>Vamos economizar energia?</td>\n",
       "      <td>Implicito</td>\n",
       "      <td>Deseja apagar a lâmpada?</td>\n",
       "      <td>Apagar Lâmpada</td>\n",
       "      <td>Ligar Televisão</td>\n",
       "    </tr>\n",
       "    <tr>\n",
       "      <th>5</th>\n",
       "      <td>6</td>\n",
       "      <td>Casa, apague a luz</td>\n",
       "      <td>Explicito</td>\n",
       "      <td>Apagando a lâmpada.</td>\n",
       "      <td>Apagar Lâmpada</td>\n",
       "      <td>Desligar Televisão</td>\n",
       "    </tr>\n",
       "    <tr>\n",
       "      <th>6</th>\n",
       "      <td>7</td>\n",
       "      <td>O ar está muito parado</td>\n",
       "      <td>Implicito</td>\n",
       "      <td>Ligando o ventilador.</td>\n",
       "      <td>Ligar Ventilador</td>\n",
       "      <td>Aumentar Volume</td>\n",
       "    </tr>\n",
       "    <tr>\n",
       "      <th>7</th>\n",
       "      <td>8</td>\n",
       "      <td>Está muito quente aqui</td>\n",
       "      <td>Implicito</td>\n",
       "      <td>Ligando o ventilador.</td>\n",
       "      <td>Ligar Ventilador</td>\n",
       "      <td>Diminuir Volume</td>\n",
       "    </tr>\n",
       "    <tr>\n",
       "      <th>8</th>\n",
       "      <td>9</td>\n",
       "      <td>Que calor!</td>\n",
       "      <td>Implicito</td>\n",
       "      <td>Deseja ligar o ventilador?</td>\n",
       "      <td>Ligar Ventilador</td>\n",
       "      <td>Mudar Canal</td>\n",
       "    </tr>\n",
       "    <tr>\n",
       "      <th>9</th>\n",
       "      <td>10</td>\n",
       "      <td>Está muito barulho, desligue o ventilador</td>\n",
       "      <td>Explicito</td>\n",
       "      <td>Desligando o ventilador.</td>\n",
       "      <td>Desligar Ventilador</td>\n",
       "      <td>NaN</td>\n",
       "    </tr>\n",
       "  </tbody>\n",
       "</table>\n",
       "</div>"
      ],
      "text/plain": [
       "    #                                     Frases       Tipo  \\\n",
       "0   1                                  Ligar luz  Explicito   \n",
       "1   2                                Ligar a luz  Explicito   \n",
       "2   3                        Iluminar o ambiente  Implicito   \n",
       "3   4                       Já está claro o dia!  Implicito   \n",
       "4   5                  Vamos economizar energia?  Implicito   \n",
       "5   6                         Casa, apague a luz  Explicito   \n",
       "6   7                     O ar está muito parado  Implicito   \n",
       "7   8                     Está muito quente aqui  Implicito   \n",
       "8   9                                 Que calor!  Implicito   \n",
       "9  10  Está muito barulho, desligue o ventilador  Explicito   \n",
       "\n",
       "                     Resposta Ação a ser Realizada    Ações Necessárias  \n",
       "0        Acendendo a lâmpada.    Acender a Lâmpada    Acender a Lâmpada  \n",
       "1        Acendendo a lâmpada.    Acender a Lâmpada       Apagar Lâmpada  \n",
       "2   Deseja acender a lâmpada?    Acender a Lâmpada     Ligar Ventilador  \n",
       "3         Apagando a lâmpada.       Apagar Lâmpada  Desligar Ventilador  \n",
       "4    Deseja apagar a lâmpada?       Apagar Lâmpada      Ligar Televisão  \n",
       "5         Apagando a lâmpada.       Apagar Lâmpada   Desligar Televisão  \n",
       "6       Ligando o ventilador.     Ligar Ventilador      Aumentar Volume  \n",
       "7       Ligando o ventilador.     Ligar Ventilador      Diminuir Volume  \n",
       "8  Deseja ligar o ventilador?     Ligar Ventilador          Mudar Canal  \n",
       "9    Desligando o ventilador.  Desligar Ventilador                  NaN  "
      ]
     },
     "execution_count": 4,
     "metadata": {},
     "output_type": "execute_result"
    }
   ],
   "source": [
    "df.head(10)"
   ]
  },
  {
   "cell_type": "code",
   "execution_count": 5,
   "metadata": {},
   "outputs": [],
   "source": [
    "df = df.drop(columns=['#', 'Ações Necessárias'])"
   ]
  },
  {
   "cell_type": "code",
   "execution_count": 6,
   "metadata": {},
   "outputs": [],
   "source": [
    "pd.set_option(\"display.max_rows\", None, \"display.max_columns\", None)"
   ]
  },
  {
   "cell_type": "code",
   "execution_count": 7,
   "metadata": {},
   "outputs": [],
   "source": [
    "df['Frases'] = df['Frases'].apply(unidecode)"
   ]
  },
  {
   "cell_type": "code",
   "execution_count": 8,
   "metadata": {},
   "outputs": [],
   "source": [
    "def replace_i(v):\n",
    "    return v.replace('í', 'i')"
   ]
  },
  {
   "cell_type": "code",
   "execution_count": 9,
   "metadata": {},
   "outputs": [],
   "source": [
    "df['Tipo'] = df['Tipo'].apply(replace_i)"
   ]
  },
  {
   "cell_type": "code",
   "execution_count": 10,
   "metadata": {},
   "outputs": [
    {
     "data": {
      "text/html": [
       "<div>\n",
       "<style scoped>\n",
       "    .dataframe tbody tr th:only-of-type {\n",
       "        vertical-align: middle;\n",
       "    }\n",
       "\n",
       "    .dataframe tbody tr th {\n",
       "        vertical-align: top;\n",
       "    }\n",
       "\n",
       "    .dataframe thead th {\n",
       "        text-align: right;\n",
       "    }\n",
       "</style>\n",
       "<table border=\"1\" class=\"dataframe\">\n",
       "  <thead>\n",
       "    <tr style=\"text-align: right;\">\n",
       "      <th></th>\n",
       "      <th>Frases</th>\n",
       "      <th>Tipo</th>\n",
       "      <th>Resposta</th>\n",
       "      <th>Ação a ser Realizada</th>\n",
       "    </tr>\n",
       "  </thead>\n",
       "  <tbody>\n",
       "    <tr>\n",
       "      <th>0</th>\n",
       "      <td>Ligar luz</td>\n",
       "      <td>Explicito</td>\n",
       "      <td>Acendendo a lâmpada.</td>\n",
       "      <td>Acender a Lâmpada</td>\n",
       "    </tr>\n",
       "    <tr>\n",
       "      <th>1</th>\n",
       "      <td>Ligar a luz</td>\n",
       "      <td>Explicito</td>\n",
       "      <td>Acendendo a lâmpada.</td>\n",
       "      <td>Acender a Lâmpada</td>\n",
       "    </tr>\n",
       "    <tr>\n",
       "      <th>2</th>\n",
       "      <td>Iluminar o ambiente</td>\n",
       "      <td>Implicito</td>\n",
       "      <td>Deseja acender a lâmpada?</td>\n",
       "      <td>Acender a Lâmpada</td>\n",
       "    </tr>\n",
       "    <tr>\n",
       "      <th>3</th>\n",
       "      <td>Ja esta claro o dia!</td>\n",
       "      <td>Implicito</td>\n",
       "      <td>Apagando a lâmpada.</td>\n",
       "      <td>Apagar Lâmpada</td>\n",
       "    </tr>\n",
       "    <tr>\n",
       "      <th>4</th>\n",
       "      <td>Vamos economizar energia?</td>\n",
       "      <td>Implicito</td>\n",
       "      <td>Deseja apagar a lâmpada?</td>\n",
       "      <td>Apagar Lâmpada</td>\n",
       "    </tr>\n",
       "  </tbody>\n",
       "</table>\n",
       "</div>"
      ],
      "text/plain": [
       "                      Frases       Tipo                   Resposta  \\\n",
       "0                  Ligar luz  Explicito       Acendendo a lâmpada.   \n",
       "1                Ligar a luz  Explicito       Acendendo a lâmpada.   \n",
       "2        Iluminar o ambiente  Implicito  Deseja acender a lâmpada?   \n",
       "3       Ja esta claro o dia!  Implicito        Apagando a lâmpada.   \n",
       "4  Vamos economizar energia?  Implicito   Deseja apagar a lâmpada?   \n",
       "\n",
       "  Ação a ser Realizada  \n",
       "0    Acender a Lâmpada  \n",
       "1    Acender a Lâmpada  \n",
       "2    Acender a Lâmpada  \n",
       "3       Apagar Lâmpada  \n",
       "4       Apagar Lâmpada  "
      ]
     },
     "execution_count": 10,
     "metadata": {},
     "output_type": "execute_result"
    }
   ],
   "source": [
    "df.head(5)"
   ]
  },
  {
   "cell_type": "code",
   "execution_count": 11,
   "metadata": {},
   "outputs": [],
   "source": [
    "X = df['Frases'].tolist()\n",
    "Y1 = df['Ação a ser Realizada'].tolist()\n",
    "Y2 = df['Resposta'].tolist()\n",
    "Y3 = df['Tipo'].tolist()"
   ]
  },
  {
   "cell_type": "code",
   "execution_count": 12,
   "metadata": {},
   "outputs": [],
   "source": [
    "#Testando somente frases implícitas.\n",
    "filteredExplicit = df[df.Tipo == 'Explicito']\n",
    "filteredImplicit = df[df.Tipo == 'Implicito']\n",
    "X_imp = filteredImplicit['Frases'].tolist()\n",
    "X_exp = filteredExplicit['Frases'].tolist()\n",
    "Y1_imp = filteredImplicit['Ação a ser Realizada'].tolist()\n",
    "Y1_exp = filteredExplicit['Ação a ser Realizada'].tolist()\n",
    "Y2_imp = filteredImplicit['Resposta'].tolist()\n",
    "Y2_exp = filteredExplicit['Resposta'].tolist()"
   ]
  },
  {
   "cell_type": "code",
   "execution_count": 13,
   "metadata": {},
   "outputs": [],
   "source": [
    "# Todas as frases\n",
    "X = df['Frases'].tolist()\n",
    "Y1 = df['Ação a ser Realizada'].tolist()\n",
    "Y2 = df['Resposta'].tolist()\n",
    "Y3 = df['Tipo'].tolist()"
   ]
  },
  {
   "cell_type": "code",
   "execution_count": 14,
   "metadata": {},
   "outputs": [
    {
     "data": {
      "text/plain": [
       "(9, 18, 2)"
      ]
     },
     "execution_count": 14,
     "metadata": {},
     "output_type": "execute_result"
    }
   ],
   "source": [
    "len(set(Y1)), len(set(Y2)), len(set(Y3))"
   ]
  },
  {
   "cell_type": "markdown",
   "metadata": {},
   "source": [
    "# preprocessing data"
   ]
  },
  {
   "cell_type": "code",
   "execution_count": 15,
   "metadata": {},
   "outputs": [],
   "source": [
    "# !pip install -U scikit-learn\n",
    "\n",
    "# !pip install gensim\n",
    "\n",
    "# !pip install nltk"
   ]
  },
  {
   "cell_type": "code",
   "execution_count": 16,
   "metadata": {},
   "outputs": [],
   "source": [
    "from sklearn import preprocessing\n",
    "le = preprocessing.LabelEncoder()\n",
    "le.fit(Y1)\n",
    "\n",
    "Y1_encoded = le.transform(Y1)"
   ]
  },
  {
   "cell_type": "markdown",
   "metadata": {},
   "source": [
    "from sklearn.feature_extraction.text import TfidfVectorizer\n",
    "vectorizer = TfidfVectorizer()\n",
    "\n",
    "X_tfidf = vectorizer.fit_transform(X)"
   ]
  },
  {
   "cell_type": "markdown",
   "metadata": {},
   "source": [
    "# using word embeddings"
   ]
  },
  {
   "cell_type": "code",
   "execution_count": 17,
   "metadata": {},
   "outputs": [],
   "source": [
    "w2v = KeyedVectors.load_word2vec_format('glove_s100.txt')"
   ]
  },
  {
   "cell_type": "code",
   "execution_count": 18,
   "metadata": {},
   "outputs": [
    {
     "name": "stdout",
     "output_type": "stream",
     "text": [
      "escuridao\n",
      "ventilacao\n",
      "friiiiio\n"
     ]
    }
   ],
   "source": [
    "def transform_w2v(X):\n",
    "    X_w2v = []\n",
    "    for sentence in X:\n",
    "        tokens = word_tokenize(sentence)\n",
    "        vectors = []\n",
    "        for token in tokens:\n",
    "            try:\n",
    "                vectors.append(w2v.get_vector(token.lower()))\n",
    "            except:\n",
    "                print(token)\n",
    "            \n",
    "        X_w2v.append(np.mean(vectors, axis=0))\n",
    "    return X_w2v\n",
    "\n",
    "X_w2v = transform_w2v(X)"
   ]
  },
  {
   "cell_type": "code",
   "execution_count": 19,
   "metadata": {},
   "outputs": [],
   "source": [
    "from sklearn.model_selection import train_test_split\n",
    "\n",
    "X_train, X_test, y_train, y_test = train_test_split(X_w2v, Y1_encoded, test_size=0.25, random_state=42, stratify=Y1_encoded)"
   ]
  },
  {
   "cell_type": "markdown",
   "metadata": {},
   "source": [
    "# Experiments with classification algorithms"
   ]
  },
  {
   "cell_type": "code",
   "execution_count": 20,
   "metadata": {},
   "outputs": [],
   "source": [
    "from sklearn.model_selection import cross_val_score\n",
    "from sklearn.linear_model import LogisticRegression\n",
    "from sklearn.svm import SVC\n",
    "from sklearn.neighbors import KNeighborsClassifier\n",
    "from sklearn import tree\n",
    "from sklearn.ensemble import GradientBoostingClassifier\n",
    "from sklearn.metrics import plot_confusion_matrix\n",
    "from sklearn.model_selection import GridSearchCV"
   ]
  },
  {
   "cell_type": "code",
   "execution_count": 21,
   "metadata": {},
   "outputs": [
    {
     "data": {
      "text/plain": [
       "GridSearchCV(estimator=GradientBoostingClassifier(),\n",
       "             param_grid={'criterion': ['friedman_mse', 'mse', 'mae'],\n",
       "                         'learning_rate': [0.1, 0.5, 1], 'max_depth': [3, 5],\n",
       "                         'max_features': ['auto', 'sqrt', 'log2'],\n",
       "                         'min_samples_split': [2, 5],\n",
       "                         'n_estimators': [10, 25]})"
      ]
     },
     "execution_count": 21,
     "metadata": {},
     "output_type": "execute_result"
    }
   ],
   "source": [
    "import warnings\n",
    "warnings.filterwarnings('ignore')\n",
    "params_lr = {'penalty': ['l1', 'l2'], 'C': [0.1, 0.5, 1, 10, 50], 'fit_intercept': [True, False],\n",
    "             'solver': ['newton-cg', 'lbfgs', 'liblinear', 'sag', 'saga']}\n",
    "\n",
    "params_svc = {'C': [0.1, 0.5, 1, 10, 50], 'kernel': ['linear', 'poly', 'rbf', 'sigmoid'],\n",
    "             'shrinking': [True, False], 'probability': [True, False]}\n",
    "\n",
    "params_knn = {'n_neighbors': [9, 11, 13, 15], 'weights':['uniform', 'distance'],\n",
    "             'algorithm': ['auto', 'ball_tree', 'kd_tree'], 'p': [1,2]}\n",
    "\n",
    "params_tree = {'criterion': ['gini', 'entropy'], 'splitter':['best', 'random'],\n",
    "               'max_features': ['auto', 'sqrt', 'log2']}\n",
    "\n",
    "params_clf = {'learning_rate': [0.1, 0.5, 1],\n",
    "              'n_estimators': [10, 25], 'criterion':['friedman_mse', 'mse', 'mae'],\n",
    "              'min_samples_split': [2, 5], 'max_depth':[3,5], 'max_features':['auto', 'sqrt', 'log2']}\n",
    "\n",
    "lr = LogisticRegression()\n",
    "svm = SVC()\n",
    "knn = KNeighborsClassifier()\n",
    "tree = tree.DecisionTreeClassifier()\n",
    "clf = GradientBoostingClassifier()\n",
    "\n",
    "gs_lr = GridSearchCV(lr, params_lr)\n",
    "gs_lr.fit(X_train, y_train)\n",
    "gs_svm = GridSearchCV(svm, params_svc)\n",
    "gs_svm.fit(X_train, y_train)\n",
    "gs_knn = GridSearchCV(knn, params_knn)\n",
    "gs_knn.fit(X_train, y_train)\n",
    "gs_tree = GridSearchCV(tree, params_tree)\n",
    "gs_tree.fit(X_train, y_train)\n",
    "gs_clf = GridSearchCV(clf, params_clf)\n",
    "gs_clf.fit(X_train, y_train)"
   ]
  },
  {
   "cell_type": "code",
   "execution_count": 22,
   "metadata": {},
   "outputs": [
    {
     "name": "stdout",
     "output_type": "stream",
     "text": [
      "{'C': 10, 'fit_intercept': True, 'penalty': 'l2', 'solver': 'liblinear'}\n",
      "{'C': 10, 'kernel': 'linear', 'probability': True, 'shrinking': True}\n",
      "{'algorithm': 'auto', 'n_neighbors': 9, 'p': 2, 'weights': 'distance'}\n",
      "{'criterion': 'gini', 'max_features': 'auto', 'splitter': 'random'}\n",
      "{'criterion': 'friedman_mse', 'learning_rate': 0.1, 'max_depth': 3, 'max_features': 'sqrt', 'min_samples_split': 5, 'n_estimators': 25}\n"
     ]
    }
   ],
   "source": [
    "#Anotar Hiperparâmetros para cada uma das Execuções.\n",
    "print(gs_lr.best_params_)\n",
    "print(gs_svm.best_params_)\n",
    "print(gs_knn.best_params_)\n",
    "print(gs_tree.best_params_)\n",
    "print(gs_clf.best_params_ )"
   ]
  },
  {
   "cell_type": "code",
   "execution_count": 23,
   "metadata": {},
   "outputs": [],
   "source": [
    "lr = gs_lr.best_estimator_\n",
    "svm = gs_svm.best_estimator_ \n",
    "knn9 = gs_knn.best_estimator_ \n",
    "tree = gs_tree.best_estimator_ \n",
    "clf = gs_clf.best_estimator_\n",
    "\n",
    "y_pred_lr = lr.predict(X_test)\n",
    "y_pred_svm = svm.predict(X_test)\n",
    "y_pred_knn9 = knn9.predict(X_test)\n",
    "y_pred_tree = tree.predict(X_test)\n",
    "y_pred_grad = clf.predict(X_test)"
   ]
  },
  {
   "cell_type": "code",
   "execution_count": 24,
   "metadata": {
    "scrolled": true,
    "tags": []
   },
   "outputs": [
    {
     "name": "stdout",
     "output_type": "stream",
     "text": [
      "['Acender a Lâmpada' 'Apagar Lâmpada' 'Aumentar Volume'\n",
      " 'Desligar Televisão' 'Desligar Ventilador' 'Diminuir Volume'\n",
      " 'Ligar Televisão' 'Ligar Ventilador' 'Mudar Canal']\n"
     ]
    },
    {
     "data": {
      "text/plain": [
       "<sklearn.metrics._plot.confusion_matrix.ConfusionMatrixDisplay at 0x25e5a036c10>"
      ]
     },
     "execution_count": 24,
     "metadata": {},
     "output_type": "execute_result"
    },
    {
     "data": {
      "image/png": "[encoded data removed]",
      "text/plain": [
       "<Figure size 432x288 with 2 Axes>"
      ]
     },
     "metadata": {
      "needs_background": "light"
     },
     "output_type": "display_data"
    },
    {
     "data": {
      "image/png": "[encoded data removed]",
      "text/plain": [
       "<Figure size 432x288 with 2 Axes>"
      ]
     },
     "metadata": {
      "needs_background": "light"
     },
     "output_type": "display_data"
    },
    {
     "data": {
      "image/png": "[encoded data removed]",
      "text/plain": [
       "<Figure size 432x288 with 2 Axes>"
      ]
     },
     "metadata": {
      "needs_background": "light"
     },
     "output_type": "display_data"
    },
    {
     "data": {
      "image/png": "[encoded data removed]",
      "text/plain": [
       "<Figure size 432x288 with 2 Axes>"
      ]
     },
     "metadata": {
      "needs_background": "light"
     },
     "output_type": "display_data"
    },
    {
     "data": {
      "image/png": "[encoded data removed]",
      "text/plain": [
       "<Figure size 432x288 with 2 Axes>"
      ]
     },
     "metadata": {
      "needs_background": "light"
     },
     "output_type": "display_data"
    }
   ],
   "source": [
    "print(le.inverse_transform([0, 1, 2, 3, 4, 5, 6, 7, 8]))\n",
    "plot_confusion_matrix(lr, X_test, y_test, normalize='true')\n",
    "plot_confusion_matrix(svm, X_test, y_test, normalize='true')\n",
    "plot_confusion_matrix(knn9, X_test, y_test, normalize='true')\n",
    "plot_confusion_matrix(tree, X_test, y_test, normalize='true')\n",
    "plot_confusion_matrix(clf, X_test, y_test, normalize='true')"
   ]
  },
  {
   "cell_type": "code",
   "execution_count": 25,
   "metadata": {},
   "outputs": [],
   "source": [
    "scores_lr = cross_val_score(lr, X_train, y_train, cv=5)\n",
    "scores_svm = cross_val_score(svm, X_train, y_train, cv=5)\n",
    "scores_knn9 = cross_val_score(knn9, X_train, y_train, cv=5)\n",
    "scores_tree = cross_val_score(tree, X_train, y_train, cv=5)\n",
    "scores_clf = cross_val_score(clf, X_train, y_train, cv=5)"
   ]
  },
  {
   "cell_type": "code",
   "execution_count": 26,
   "metadata": {},
   "outputs": [
    {
     "name": "stdout",
     "output_type": "stream",
     "text": [
      "LR 0.62 accuracy with a standard deviation of 0.07\n",
      "SVM 0.59 accuracy with a standard deviation of 0.09\n",
      "KNN 0.42 accuracy with a standard deviation of 0.03 using 9 neighbors\n",
      "Tree 0.25 accuracy with a standard deviation of 0.10 \n",
      "Gradient Boosting 0.41 accuracy with a standard deviation of 0.12 \n"
     ]
    }
   ],
   "source": [
    "print(\"LR %0.2f accuracy with a standard deviation of %0.2f\" % (scores_lr.mean(), scores_lr.std()))\n",
    "print(\"SVM %0.2f accuracy with a standard deviation of %0.2f\" % (scores_svm.mean(), scores_svm.std()))\n",
    "print(\"KNN %0.2f accuracy with a standard deviation of %0.2f using %d neighbors\" % (scores_knn9.mean(), scores_knn9.std(), 9))\n",
    "print(\"Tree %0.2f accuracy with a standard deviation of %0.2f \" % (scores_tree.mean(), scores_tree.std()))\n",
    "print(\"Gradient Boosting %0.2f accuracy with a standard deviation of %0.2f \" % (scores_clf.mean(), scores_clf.std()))"
   ]
  },
  {
   "cell_type": "code",
   "execution_count": 27,
   "metadata": {},
   "outputs": [],
   "source": [
    "from sklearn.metrics import classification_report"
   ]
  },
  {
   "cell_type": "markdown",
   "metadata": {},
   "source": [
    "for i, c in enumerate(list(le.classes_)):\n",
    "    print(i, c)"
   ]
  },
  {
   "cell_type": "code",
   "execution_count": 28,
   "metadata": {},
   "outputs": [
    {
     "name": "stdout",
     "output_type": "stream",
     "text": [
      "              precision    recall  f1-score   support\n",
      "\n",
      "           0       1.00      0.83      0.91         6\n",
      "           1       0.57      0.80      0.67         5\n",
      "           2       0.75      0.60      0.67         5\n",
      "           3       0.60      0.75      0.67         4\n",
      "           4       0.50      0.20      0.29         5\n",
      "           5       0.40      0.40      0.40         5\n",
      "           6       0.67      0.80      0.73         5\n",
      "           7       0.50      0.67      0.57         6\n",
      "           8       1.00      0.83      0.91         6\n",
      "\n",
      "    accuracy                           0.66        47\n",
      "   macro avg       0.67      0.65      0.64        47\n",
      "weighted avg       0.68      0.66      0.65        47\n",
      "\n"
     ]
    }
   ],
   "source": [
    "print(classification_report(y_test, y_pred_lr))"
   ]
  },
  {
   "cell_type": "code",
   "execution_count": 29,
   "metadata": {},
   "outputs": [
    {
     "name": "stdout",
     "output_type": "stream",
     "text": [
      "              precision    recall  f1-score   support\n",
      "\n",
      "           0       0.80      0.67      0.73         6\n",
      "           1       0.44      0.80      0.57         5\n",
      "           2       1.00      0.40      0.57         5\n",
      "           3       0.50      1.00      0.67         4\n",
      "           4       0.50      0.60      0.55         5\n",
      "           5       0.29      0.40      0.33         5\n",
      "           6       1.00      0.60      0.75         5\n",
      "           7       0.33      0.17      0.22         6\n",
      "           8       1.00      0.67      0.80         6\n",
      "\n",
      "    accuracy                           0.57        47\n",
      "   macro avg       0.65      0.59      0.58        47\n",
      "weighted avg       0.66      0.57      0.57        47\n",
      "\n"
     ]
    }
   ],
   "source": [
    "print(classification_report(y_test, y_pred_svm))"
   ]
  },
  {
   "cell_type": "code",
   "execution_count": 30,
   "metadata": {},
   "outputs": [
    {
     "name": "stdout",
     "output_type": "stream",
     "text": [
      "              precision    recall  f1-score   support\n",
      "\n",
      "           0       0.40      0.67      0.50         6\n",
      "           1       0.00      0.00      0.00         5\n",
      "           2       0.40      0.40      0.40         5\n",
      "           3       0.14      0.25      0.18         4\n",
      "           4       0.33      0.20      0.25         5\n",
      "           5       0.20      0.20      0.20         5\n",
      "           6       0.43      0.60      0.50         5\n",
      "           7       0.33      0.17      0.22         6\n",
      "           8       1.00      0.17      0.29         6\n",
      "\n",
      "    accuracy                           0.30        47\n",
      "   macro avg       0.36      0.29      0.28        47\n",
      "weighted avg       0.38      0.30      0.29        47\n",
      "\n"
     ]
    }
   ],
   "source": [
    "print(classification_report(y_test, y_pred_knn9))"
   ]
  },
  {
   "cell_type": "code",
   "execution_count": 31,
   "metadata": {},
   "outputs": [
    {
     "name": "stdout",
     "output_type": "stream",
     "text": [
      "              precision    recall  f1-score   support\n",
      "\n",
      "           0       0.50      0.67      0.57         6\n",
      "           1       0.14      0.20      0.17         5\n",
      "           2       0.00      0.00      0.00         5\n",
      "           3       1.00      0.75      0.86         4\n",
      "           4       0.40      0.40      0.40         5\n",
      "           5       0.00      0.00      0.00         5\n",
      "           6       0.25      0.20      0.22         5\n",
      "           7       0.38      0.50      0.43         6\n",
      "           8       0.17      0.17      0.17         6\n",
      "\n",
      "    accuracy                           0.32        47\n",
      "   macro avg       0.31      0.32      0.31        47\n",
      "weighted avg       0.30      0.32      0.31        47\n",
      "\n"
     ]
    }
   ],
   "source": [
    "print(classification_report(y_test, y_pred_tree))"
   ]
  },
  {
   "cell_type": "code",
   "execution_count": 32,
   "metadata": {},
   "outputs": [
    {
     "name": "stdout",
     "output_type": "stream",
     "text": [
      "              precision    recall  f1-score   support\n",
      "\n",
      "           0       0.50      0.50      0.50         6\n",
      "           1       0.50      0.60      0.55         5\n",
      "           2       0.00      0.00      0.00         5\n",
      "           3       0.40      0.50      0.44         4\n",
      "           4       0.38      0.60      0.46         5\n",
      "           5       0.33      0.60      0.43         5\n",
      "           6       0.50      0.40      0.44         5\n",
      "           7       0.50      0.50      0.50         6\n",
      "           8       1.00      0.50      0.67         6\n",
      "\n",
      "    accuracy                           0.47        47\n",
      "   macro avg       0.46      0.47      0.44        47\n",
      "weighted avg       0.47      0.47      0.45        47\n",
      "\n"
     ]
    }
   ],
   "source": [
    "print(classification_report(y_test, y_pred_grad))"
   ]
  },
  {
   "cell_type": "code",
   "execution_count": 33,
   "metadata": {},
   "outputs": [],
   "source": [
    "# !pip install mlxtend"
   ]
  },
  {
   "cell_type": "code",
   "execution_count": 34,
   "metadata": {
    "scrolled": false
   },
   "outputs": [
    {
     "name": "stdout",
     "output_type": "stream",
     "text": [
      "Logistic Regression x SVM\n",
      "t statistic: -0.192\n",
      "p value: 0.855\n",
      "\n",
      "Logistic Regression x KNN\n",
      "t statistic: 2.301\n",
      "p value: 0.070\n",
      "\n",
      "Logistic Regression x Decision Trees\n",
      "t statistic: 6.007\n",
      "p value: 0.002\n",
      "\n",
      "Logistic Regression x Gradient Boosting\n",
      "t statistic: 2.949\n",
      "p value: 0.032\n",
      "\n",
      "SVM x KNN\n",
      "t statistic: 1.898\n",
      "p value: 0.116\n",
      "\n",
      "SVM x Decision Trees\n",
      "t statistic: 3.142\n",
      "p value: 0.026\n",
      "\n",
      "SVM x Gradient Boosting\n",
      "t statistic: 2.871\n",
      "p value: 0.035\n",
      "\n",
      "KNN x Decision Trees\n",
      "t statistic: 2.626\n",
      "p value: 0.047\n",
      "\n",
      "KNN x Gradient Boosting\n",
      "t statistic: -0.439\n",
      "p value: 0.679\n",
      "\n",
      "Decision Trees x Gradient Boosting\n",
      "t statistic: -3.623\n",
      "p value: 0.015\n",
      "\n"
     ]
    }
   ],
   "source": [
    "import warnings\n",
    "warnings.filterwarnings('ignore')\n",
    "\n",
    "from mlxtend.evaluate import paired_ttest_5x2cv\n",
    "methods = []\n",
    "methods.append([\"Logistic Regression\", lr])\n",
    "methods.append([\"SVM\", svm])\n",
    "methods.append([\"KNN\", knn9])\n",
    "methods.append([\"Decision Trees\", tree])\n",
    "methods.append([\"Gradient Boosting\", clf])\n",
    "\n",
    "for i in range(0, len(methods)):\n",
    "    for j in range(i+1, len(methods)):\n",
    "        t, p = paired_ttest_5x2cv(estimator1 = methods[i][1],\n",
    "                                  estimator2 = methods[j][1],\n",
    "                                  X=X_w2v, y=Y1,\n",
    "                                  random_seed=1)\n",
    "        print(str(methods[i][0]) + \" x \" + str(methods[j][0]))\n",
    "        print('t statistic: %.3f' % t)\n",
    "        print('p value: %.3f' % p)\n",
    "        print()"
   ]
  },
  {
   "cell_type": "code",
   "execution_count": null,
   "metadata": {},
   "outputs": [],
   "source": []
  }
 ],
 "metadata": {
  "kernelspec": {
   "display_name": "Python 3",
   "language": "python",
   "name": "python3"
  },
  "language_info": {
   "codemirror_mode": {
    "name": "ipython",
    "version": 3
   },
   "file_extension": ".py",
   "mimetype": "text/x-python",
   "name": "python",
   "nbconvert_exporter": "python",
   "pygments_lexer": "ipython3",
   "version": "3.8.5"
  }
 },
 "nbformat": 4,
 "nbformat_minor": 5
}
