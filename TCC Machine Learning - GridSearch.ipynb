{
 "cells": [
  {
   "cell_type": "code",
   "execution_count": 1,
   "metadata": {},
   "outputs": [],
   "source": [
    "import pandas as pd\n",
    "import numpy as np\n",
    "import io, re\n",
    "from unidecode import unidecode\n",
    "from gensim.models import KeyedVectors\n",
    "from nltk.tokenize import word_tokenize"
   ]
  },
  {
   "cell_type": "code",
   "execution_count": 2,
   "metadata": {},
   "outputs": [],
   "source": [
    "archive = \"Corpus.csv\""
   ]
  },
  {
   "cell_type": "code",
   "execution_count": 3,
   "metadata": {},
   "outputs": [],
   "source": [
    "with open(archive, 'r') as myfile:\n",
    "    data = myfile.read().encode('latin1').decode('utf8')\n",
    "    df = pd.read_csv(io.StringIO(re.sub('\"\\s*\\n','\"',data)), delimiter=',')"
   ]
  },
  {
   "cell_type": "code",
   "execution_count": 4,
   "metadata": {},
   "outputs": [
    {
     "data": {
      "text/html": [
       "<div>\n",
       "<style scoped>\n",
       "    .dataframe tbody tr th:only-of-type {\n",
       "        vertical-align: middle;\n",
       "    }\n",
       "\n",
       "    .dataframe tbody tr th {\n",
       "        vertical-align: top;\n",
       "    }\n",
       "\n",
       "    .dataframe thead th {\n",
       "        text-align: right;\n",
       "    }\n",
       "</style>\n",
       "<table border=\"1\" class=\"dataframe\">\n",
       "  <thead>\n",
       "    <tr style=\"text-align: right;\">\n",
       "      <th></th>\n",
       "      <th>#</th>\n",
       "      <th>Frases</th>\n",
       "      <th>Tipo</th>\n",
       "      <th>Resposta</th>\n",
       "      <th>Ação a ser Realizada</th>\n",
       "      <th>Ações Necessárias</th>\n",
       "    </tr>\n",
       "  </thead>\n",
       "  <tbody>\n",
       "    <tr>\n",
       "      <th>0</th>\n",
       "      <td>1</td>\n",
       "      <td>Ligar luz</td>\n",
       "      <td>Explicito</td>\n",
       "      <td>Acendendo a lâmpada.</td>\n",
       "      <td>Acender a Lâmpada</td>\n",
       "      <td>Acender a Lâmpada</td>\n",
       "    </tr>\n",
       "    <tr>\n",
       "      <th>1</th>\n",
       "      <td>2</td>\n",
       "      <td>Ligar a luz</td>\n",
       "      <td>Explicito</td>\n",
       "      <td>Acendendo a lâmpada.</td>\n",
       "      <td>Acender a Lâmpada</td>\n",
       "      <td>Apagar Lâmpada</td>\n",
       "    </tr>\n",
       "    <tr>\n",
       "      <th>2</th>\n",
       "      <td>3</td>\n",
       "      <td>Iluminar o ambiente</td>\n",
       "      <td>Implicito</td>\n",
       "      <td>Deseja acender a lâmpada?</td>\n",
       "      <td>Acender a Lâmpada</td>\n",
       "      <td>Ligar Ventilador</td>\n",
       "    </tr>\n",
       "    <tr>\n",
       "      <th>3</th>\n",
       "      <td>4</td>\n",
       "      <td>Já está claro o dia!</td>\n",
       "      <td>Implicito</td>\n",
       "      <td>Apagando a lâmpada.</td>\n",
       "      <td>Apagar Lâmpada</td>\n",
       "      <td>Desligar Ventilador</td>\n",
       "    </tr>\n",
       "    <tr>\n",
       "      <th>4</th>\n",
       "      <td>5</td>\n",
       "      <td>Vamos economizar energia?</td>\n",
       "      <td>Implicito</td>\n",
       "      <td>Deseja apagar a lâmpada?</td>\n",
       "      <td>Apagar Lâmpada</td>\n",
       "      <td>Ligar Televisão</td>\n",
       "    </tr>\n",
       "    <tr>\n",
       "      <th>5</th>\n",
       "      <td>6</td>\n",
       "      <td>Casa, apague a luz</td>\n",
       "      <td>Explicito</td>\n",
       "      <td>Apagando a lâmpada.</td>\n",
       "      <td>Apagar Lâmpada</td>\n",
       "      <td>Desligar Televisão</td>\n",
       "    </tr>\n",
       "    <tr>\n",
       "      <th>6</th>\n",
       "      <td>7</td>\n",
       "      <td>O ar está muito parado</td>\n",
       "      <td>Implicito</td>\n",
       "      <td>Ligando o ventilador.</td>\n",
       "      <td>Ligar Ventilador</td>\n",
       "      <td>Aumentar Volume</td>\n",
       "    </tr>\n",
       "    <tr>\n",
       "      <th>7</th>\n",
       "      <td>8</td>\n",
       "      <td>Está muito quente aqui</td>\n",
       "      <td>Implicito</td>\n",
       "      <td>Ligando o ventilador.</td>\n",
       "      <td>Ligar Ventilador</td>\n",
       "      <td>Diminuir Volume</td>\n",
       "    </tr>\n",
       "    <tr>\n",
       "      <th>8</th>\n",
       "      <td>9</td>\n",
       "      <td>Que calor!</td>\n",
       "      <td>Implicito</td>\n",
       "      <td>Deseja ligar o ventilador?</td>\n",
       "      <td>Ligar Ventilador</td>\n",
       "      <td>Mudar Canal</td>\n",
       "    </tr>\n",
       "    <tr>\n",
       "      <th>9</th>\n",
       "      <td>10</td>\n",
       "      <td>Está muito barulho, desligue o ventilador</td>\n",
       "      <td>Explicito</td>\n",
       "      <td>Desligando o ventilador.</td>\n",
       "      <td>Desligar Ventilador</td>\n",
       "      <td>NaN</td>\n",
       "    </tr>\n",
       "  </tbody>\n",
       "</table>\n",
       "</div>"
      ],
      "text/plain": [
       "    #                                     Frases       Tipo  \\\n",
       "0   1                                  Ligar luz  Explicito   \n",
       "1   2                                Ligar a luz  Explicito   \n",
       "2   3                        Iluminar o ambiente  Implicito   \n",
       "3   4                       Já está claro o dia!  Implicito   \n",
       "4   5                  Vamos economizar energia?  Implicito   \n",
       "5   6                         Casa, apague a luz  Explicito   \n",
       "6   7                     O ar está muito parado  Implicito   \n",
       "7   8                     Está muito quente aqui  Implicito   \n",
       "8   9                                 Que calor!  Implicito   \n",
       "9  10  Está muito barulho, desligue o ventilador  Explicito   \n",
       "\n",
       "                     Resposta Ação a ser Realizada    Ações Necessárias  \n",
       "0        Acendendo a lâmpada.    Acender a Lâmpada    Acender a Lâmpada  \n",
       "1        Acendendo a lâmpada.    Acender a Lâmpada       Apagar Lâmpada  \n",
       "2   Deseja acender a lâmpada?    Acender a Lâmpada     Ligar Ventilador  \n",
       "3         Apagando a lâmpada.       Apagar Lâmpada  Desligar Ventilador  \n",
       "4    Deseja apagar a lâmpada?       Apagar Lâmpada      Ligar Televisão  \n",
       "5         Apagando a lâmpada.       Apagar Lâmpada   Desligar Televisão  \n",
       "6       Ligando o ventilador.     Ligar Ventilador      Aumentar Volume  \n",
       "7       Ligando o ventilador.     Ligar Ventilador      Diminuir Volume  \n",
       "8  Deseja ligar o ventilador?     Ligar Ventilador          Mudar Canal  \n",
       "9    Desligando o ventilador.  Desligar Ventilador                  NaN  "
      ]
     },
     "execution_count": 4,
     "metadata": {},
     "output_type": "execute_result"
    }
   ],
   "source": [
    "df.head(10)"
   ]
  },
  {
   "cell_type": "code",
   "execution_count": 5,
   "metadata": {},
   "outputs": [],
   "source": [
    "df = df.drop(columns=['#', 'Ações Necessárias'])"
   ]
  },
  {
   "cell_type": "code",
   "execution_count": 6,
   "metadata": {},
   "outputs": [],
   "source": [
    "pd.set_option(\"display.max_rows\", None, \"display.max_columns\", None)"
   ]
  },
  {
   "cell_type": "code",
   "execution_count": 7,
   "metadata": {},
   "outputs": [],
   "source": [
    "df['Frases'] = df['Frases'].apply(unidecode)"
   ]
  },
  {
   "cell_type": "code",
   "execution_count": 8,
   "metadata": {},
   "outputs": [],
   "source": [
    "def replace_i(v):\n",
    "    return v.replace('í', 'i')"
   ]
  },
  {
   "cell_type": "code",
   "execution_count": 9,
   "metadata": {},
   "outputs": [],
   "source": [
    "df['Tipo'] = df['Tipo'].apply(replace_i)"
   ]
  },
  {
   "cell_type": "code",
   "execution_count": 10,
   "metadata": {},
   "outputs": [
    {
     "data": {
      "text/html": [
       "<div>\n",
       "<style scoped>\n",
       "    .dataframe tbody tr th:only-of-type {\n",
       "        vertical-align: middle;\n",
       "    }\n",
       "\n",
       "    .dataframe tbody tr th {\n",
       "        vertical-align: top;\n",
       "    }\n",
       "\n",
       "    .dataframe thead th {\n",
       "        text-align: right;\n",
       "    }\n",
       "</style>\n",
       "<table border=\"1\" class=\"dataframe\">\n",
       "  <thead>\n",
       "    <tr style=\"text-align: right;\">\n",
       "      <th></th>\n",
       "      <th>Frases</th>\n",
       "      <th>Tipo</th>\n",
       "      <th>Resposta</th>\n",
       "      <th>Ação a ser Realizada</th>\n",
       "    </tr>\n",
       "  </thead>\n",
       "  <tbody>\n",
       "    <tr>\n",
       "      <th>0</th>\n",
       "      <td>Ligar luz</td>\n",
       "      <td>Explicito</td>\n",
       "      <td>Acendendo a lâmpada.</td>\n",
       "      <td>Acender a Lâmpada</td>\n",
       "    </tr>\n",
       "    <tr>\n",
       "      <th>1</th>\n",
       "      <td>Ligar a luz</td>\n",
       "      <td>Explicito</td>\n",
       "      <td>Acendendo a lâmpada.</td>\n",
       "      <td>Acender a Lâmpada</td>\n",
       "    </tr>\n",
       "    <tr>\n",
       "      <th>2</th>\n",
       "      <td>Iluminar o ambiente</td>\n",
       "      <td>Implicito</td>\n",
       "      <td>Deseja acender a lâmpada?</td>\n",
       "      <td>Acender a Lâmpada</td>\n",
       "    </tr>\n",
       "    <tr>\n",
       "      <th>3</th>\n",
       "      <td>Ja esta claro o dia!</td>\n",
       "      <td>Implicito</td>\n",
       "      <td>Apagando a lâmpada.</td>\n",
       "      <td>Apagar Lâmpada</td>\n",
       "    </tr>\n",
       "    <tr>\n",
       "      <th>4</th>\n",
       "      <td>Vamos economizar energia?</td>\n",
       "      <td>Implicito</td>\n",
       "      <td>Deseja apagar a lâmpada?</td>\n",
       "      <td>Apagar Lâmpada</td>\n",
       "    </tr>\n",
       "  </tbody>\n",
       "</table>\n",
       "</div>"
      ],
      "text/plain": [
       "                      Frases       Tipo                   Resposta  \\\n",
       "0                  Ligar luz  Explicito       Acendendo a lâmpada.   \n",
       "1                Ligar a luz  Explicito       Acendendo a lâmpada.   \n",
       "2        Iluminar o ambiente  Implicito  Deseja acender a lâmpada?   \n",
       "3       Ja esta claro o dia!  Implicito        Apagando a lâmpada.   \n",
       "4  Vamos economizar energia?  Implicito   Deseja apagar a lâmpada?   \n",
       "\n",
       "  Ação a ser Realizada  \n",
       "0    Acender a Lâmpada  \n",
       "1    Acender a Lâmpada  \n",
       "2    Acender a Lâmpada  \n",
       "3       Apagar Lâmpada  \n",
       "4       Apagar Lâmpada  "
      ]
     },
     "execution_count": 10,
     "metadata": {},
     "output_type": "execute_result"
    }
   ],
   "source": [
    "df.head(5)"
   ]
  },
  {
   "cell_type": "code",
   "execution_count": 11,
   "metadata": {},
   "outputs": [],
   "source": [
    "X = df['Frases'].tolist()\n",
    "Y1 = df['Ação a ser Realizada'].tolist()\n",
    "Y2 = df['Resposta'].tolist()\n",
    "Y3 = df['Tipo'].tolist()"
   ]
  },
  {
   "cell_type": "code",
   "execution_count": 12,
   "metadata": {},
   "outputs": [],
   "source": [
    "#Testando somente frases implícitas.\n",
    "filteredExplicit = df[df.Tipo == 'Explicito']\n",
    "filteredImplicit = df[df.Tipo == 'Implicito']\n",
    "X_imp = filteredImplicit['Frases'].tolist()\n",
    "X_exp = filteredExplicit['Frases'].tolist()\n",
    "Y1_imp = filteredImplicit['Ação a ser Realizada'].tolist()\n",
    "Y1_exp = filteredExplicit['Ação a ser Realizada'].tolist()\n",
    "Y2_imp = filteredImplicit['Resposta'].tolist()\n",
    "Y2_exp = filteredExplicit['Resposta'].tolist()"
   ]
  },
  {
   "cell_type": "code",
   "execution_count": 13,
   "metadata": {},
   "outputs": [],
   "source": [
    "# Todas as frases\n",
    "X = df['Frases'].tolist()\n",
    "Y1 = df['Ação a ser Realizada'].tolist()\n",
    "Y2 = df['Resposta'].tolist()\n",
    "Y3 = df['Tipo'].tolist()"
   ]
  },
  {
   "cell_type": "code",
   "execution_count": 14,
   "metadata": {},
   "outputs": [
    {
     "data": {
      "text/plain": [
       "(9, 18, 2)"
      ]
     },
     "execution_count": 14,
     "metadata": {},
     "output_type": "execute_result"
    }
   ],
   "source": [
    "len(set(Y1)), len(set(Y2)), len(set(Y3))"
   ]
  },
  {
   "cell_type": "markdown",
   "metadata": {},
   "source": [
    "# preprocessing data"
   ]
  },
  {
   "cell_type": "code",
   "execution_count": 15,
   "metadata": {},
   "outputs": [],
   "source": [
    "# !pip install -U scikit-learn\n",
    "\n",
    "# !pip install gensim\n",
    "\n",
    "# !pip install nltk"
   ]
  },
  {
   "cell_type": "code",
   "execution_count": 16,
   "metadata": {},
   "outputs": [],
   "source": [
    "from sklearn import preprocessing\n",
    "le = preprocessing.LabelEncoder()\n",
    "le.fit(Y1_imp)\n",
    "\n",
    "Y1_encoded = le.transform(Y1)"
   ]
  },
  {
   "cell_type": "markdown",
   "metadata": {},
   "source": [
    "from sklearn.feature_extraction.text import TfidfVectorizer\n",
    "vectorizer = TfidfVectorizer()\n",
    "\n",
    "X_tfidf = vectorizer.fit_transform(X)"
   ]
  },
  {
   "cell_type": "markdown",
   "metadata": {},
   "source": [
    "# using word embeddings"
   ]
  },
  {
   "cell_type": "code",
   "execution_count": 17,
   "metadata": {},
   "outputs": [],
   "source": [
    "w2v = KeyedVectors.load_word2vec_format('glove_s100.txt')"
   ]
  },
  {
   "cell_type": "code",
   "execution_count": 23,
   "metadata": {},
   "outputs": [
    {
     "name": "stdout",
     "output_type": "stream",
     "text": [
      "escuridao\n",
      "ventilacao\n",
      "friiiiio\n"
     ]
    }
   ],
   "source": [
    "def transform_w2v(X):\n",
    "    X_w2v = []\n",
    "    for sentence in X:\n",
    "        tokens = word_tokenize(sentence)\n",
    "        vectors = []\n",
    "        for token in tokens:\n",
    "            try:\n",
    "                vectors.append(w2v.get_vector(token.lower()))\n",
    "            except:\n",
    "                print(token)\n",
    "            \n",
    "        X_w2v.append(np.mean(vectors, axis=0))\n",
    "    return X_w2v\n",
    "\n",
    "X_w2v = transform_w2v(X)"
   ]
  },
  {
   "cell_type": "code",
   "execution_count": 32,
   "metadata": {},
   "outputs": [
    {
     "name": "stdout",
     "output_type": "stream",
     "text": [
      "TF-IDF:\n",
      "  (0, 1)\t0.4472135954999579\n",
      "  (0, 0)\t0.4472135954999579\n",
      "  (0, 2)\t0.4472135954999579\n",
      "  (0, 3)\t0.4472135954999579\n",
      "  (0, 4)\t0.4472135954999579\n",
      "Word2Vec:\n",
      "[array([-3.05735856e-01, -1.77687511e-01, -3.31434488e-01, -8.48858356e-01,\n",
      "       -2.96531498e-01,  2.51416373e-03, -2.96251982e-01, -3.19136649e-01,\n",
      "       -2.19754994e-01, -1.29450485e-01,  5.66140153e-02,  3.39437336e-01,\n",
      "        4.83064950e-02, -5.40972531e-01,  9.80334878e-02,  1.57491505e-01,\n",
      "        2.48661831e-01,  2.47282162e-01,  3.02413344e-01,  8.17823946e-01,\n",
      "        5.98798990e-01,  5.45873344e-02,  3.70278507e-01, -4.15192366e-01,\n",
      "       -5.40721655e-01, -6.60332978e-01,  9.96828079e-04, -5.88498473e-01,\n",
      "        3.47100645e-01,  1.65343249e+00,  7.23456666e-02,  3.34975809e-01,\n",
      "       -1.12200655e-01,  2.26949170e-01,  2.55855173e-01, -4.32572335e-01,\n",
      "        8.94918367e-02, -2.05582842e-01, -5.73872864e-01,  4.53648001e-01,\n",
      "        1.19539507e-01, -1.24653161e-01, -5.87590002e-02, -3.10654491e-01,\n",
      "        8.44568312e-02,  2.25505993e-01,  2.46850148e-01, -1.61891669e-01,\n",
      "        3.53598207e-01, -3.10813487e-01,  4.71486837e-01,  2.47742847e-01,\n",
      "       -1.26712337e-01, -1.65999815e-01, -6.43244207e-01,  3.91349709e-03,\n",
      "        1.76276669e-01,  2.64565319e-01, -6.26248345e-02,  6.90976605e-02,\n",
      "        3.30132008e-01,  7.25116581e-03, -1.61137164e-01, -8.47693309e-02,\n",
      "        1.36339828e-01,  3.80424351e-01, -1.91302836e-01, -1.24164671e-01,\n",
      "       -3.16611715e-02, -1.33707330e-01, -6.25191629e-02,  1.35678515e-01,\n",
      "       -3.38430971e-01,  2.77326673e-01,  1.93733418e+00, -6.03988282e-02,\n",
      "       -3.20273012e-01, -4.67110090e-02,  9.66323316e-02, -1.21484317e-01,\n",
      "        3.10391515e-01, -1.64968312e+00, -2.88071990e-01, -1.07916945e-03,\n",
      "       -7.59570003e-02,  3.42326313e-01, -6.28150487e-03, -3.31995517e-01,\n",
      "        6.59533367e-02, -1.21327840e-01, -1.34113327e-01,  1.07134140e+00,\n",
      "       -3.09738308e-01, -6.59636796e-01, -2.17656687e-01,  4.60913032e-01,\n",
      "        6.01156831e-01,  4.65423197e-01,  1.62937438e+00,  3.10008854e-01],\n",
      "      dtype=float32)]\n"
     ]
    }
   ],
   "source": [
    "from sklearn.feature_extraction.text import TfidfVectorizer \n",
    "vectorizer = TfidfVectorizer()\n",
    "print(\"TF-IDF:\")\n",
    "print(vectorizer.fit_transform([\"Tá tudo muito alto aqui.\"]))\n",
    "print(\"Word2Vec:\")\n",
    "print(transform_w2v([\"Tá tudo muito alto aqui.\"]))"
   ]
  },
  {
   "cell_type": "code",
   "execution_count": null,
   "metadata": {},
   "outputs": [],
   "source": [
    "from sklearn.model_selection import train_test_split\n",
    "\n",
    "X_train, X_test, y_train, y_test = train_test_split(X_w2v, Y1_encoded, test_size=0.25, random_state=42, stratify=Y1_encoded)"
   ]
  },
  {
   "cell_type": "markdown",
   "metadata": {},
   "source": [
    "# Experiments with classification algorithms"
   ]
  },
  {
   "cell_type": "code",
   "execution_count": null,
   "metadata": {},
   "outputs": [],
   "source": [
    "from sklearn.model_selection import cross_val_score\n",
    "from sklearn.linear_model import LogisticRegression\n",
    "from sklearn.svm import SVC\n",
    "from sklearn.neighbors import KNeighborsClassifier\n",
    "from sklearn import tree\n",
    "from sklearn.ensemble import GradientBoostingClassifier\n",
    "from sklearn.metrics import plot_confusion_matrix\n",
    "from sklearn.model_selection import GridSearchCV"
   ]
  },
  {
   "cell_type": "code",
   "execution_count": null,
   "metadata": {},
   "outputs": [],
   "source": [
    "import warnings\n",
    "warnings.filterwarnings('ignore')\n",
    "params_lr = {'penalty': ['l1', 'l2'], 'C': [0.1, 0.5, 1, 10, 50], 'fit_intercept': [True, False],\n",
    "             'solver': ['newton-cg', 'lbfgs', 'liblinear', 'sag', 'saga']}\n",
    "\n",
    "params_svc = {'C': [0.1, 0.5, 1, 10, 20], 'kernel': ['linear', 'poly', 'rbf', 'sigmoid'],\n",
    "             'shrinking': [True, False]}\n",
    "\n",
    "params_knn = {'n_neighbors': [9, 11, 13, 15], 'weights':['uniform', 'distance'],\n",
    "             'algorithm': ['auto', 'ball_tree', 'kd_tree'], 'leaf_size': [15, 30, 45]}\n",
    "\n",
    "params_tree = {'criterion': ['gini', 'entropy'], 'splitter':['best', 'random'],\n",
    "               'min_samples_split':[1, 2, 4, 6], 'max_features': ['auto', 'sqrt', 'log2']}\n",
    "\n",
    "params_clf = {'learning_rate': [0.05, 0.1, 0.25, 0.5],\n",
    "              'n_estimators': [50, 100, 200], 'criterion':['friedman_mse', 'mse'],\n",
    "              'min_samples_split': [1, 2, 4], 'max_depth':[2,3,5,7], 'max_features':['auto', 'sqrt', 'log2']}\n",
    "\n",
    "lr = LogisticRegression(random_state=32)\n",
    "svm = SVC(random_state=32)\n",
    "knn = KNeighborsClassifier(n_jobs=-1)\n",
    "tree = tree.DecisionTreeClassifier(random_state=32)\n",
    "clf = GradientBoostingClassifier(random_state=32)\n",
    "\n",
    "gs_lr = GridSearchCV(lr, params_lr, n_jobs=-1)\n",
    "gs_lr.fit(X_train, y_train)\n",
    "gs_svm = GridSearchCV(svm, params_svc, n_jobs=-1)\n",
    "gs_svm.fit(X_train, y_train)\n",
    "gs_knn = GridSearchCV(knn, params_knn, n_jobs=-1)\n",
    "gs_knn.fit(X_train, y_train)\n",
    "gs_tree = GridSearchCV(tree, params_tree, n_jobs=-1)\n",
    "gs_tree.fit(X_train, y_train)\n",
    "gs_clf = GridSearchCV(clf, params_clf, n_jobs=-1)\n",
    "gs_clf.fit(X_train, y_train)"
   ]
  },
  {
   "cell_type": "code",
   "execution_count": null,
   "metadata": {},
   "outputs": [],
   "source": [
    "#Anotar Hiperparâmetros para cada uma das Execuções.\n",
    "print(gs_lr.best_params_)\n",
    "print(gs_svm.best_params_)\n",
    "print(gs_knn.best_params_)\n",
    "print(gs_tree.best_params_)\n",
    "print(gs_clf.best_params_ )"
   ]
  },
  {
   "cell_type": "code",
   "execution_count": null,
   "metadata": {},
   "outputs": [],
   "source": [
    "lr = gs_lr.best_estimator_\n",
    "svm = gs_svm.best_estimator_ \n",
    "knn9 = gs_knn.best_estimator_ \n",
    "tree = gs_tree.best_estimator_ \n",
    "clf = gs_clf.best_estimator_\n",
    "\n",
    "y_pred_lr = lr.predict(X_test)\n",
    "y_pred_svm = svm.predict(X_test)\n",
    "y_pred_knn9 = knn9.predict(X_test)\n",
    "y_pred_tree = tree.predict(X_test)\n",
    "y_pred_grad = clf.predict(X_test)"
   ]
  },
  {
   "cell_type": "code",
   "execution_count": null,
   "metadata": {
    "scrolled": true,
    "tags": []
   },
   "outputs": [],
   "source": [
    "print(le.inverse_transform([0, 1, 2, 3, 4, 5, 6, 7, 8]))\n",
    "plot_confusion_matrix(lr, X_test, y_test, normalize='true')\n",
    "plot_confusion_matrix(svm, X_test, y_test, normalize='true')\n",
    "plot_confusion_matrix(knn9, X_test, y_test, normalize='true')\n",
    "plot_confusion_matrix(tree, X_test, y_test, normalize='true')\n",
    "plot_confusion_matrix(clf, X_test, y_test, normalize='true')"
   ]
  },
  {
   "cell_type": "code",
   "execution_count": null,
   "metadata": {},
   "outputs": [],
   "source": [
    "scores_lr = cross_val_score(lr, X_train, y_train, cv=5)\n",
    "scores_svm = cross_val_score(svm, X_train, y_train, cv=5)\n",
    "scores_knn9 = cross_val_score(knn9, X_train, y_train, cv=5)\n",
    "scores_tree = cross_val_score(tree, X_train, y_train, cv=5)\n",
    "scores_clf = cross_val_score(clf, X_train, y_train, cv=5)"
   ]
  },
  {
   "cell_type": "code",
   "execution_count": null,
   "metadata": {},
   "outputs": [],
   "source": [
    "print(\"LR %0.2f accuracy with a standard deviation of %0.2f\" % (scores_lr.mean(), scores_lr.std()))\n",
    "print(\"SVM %0.2f accuracy with a standard deviation of %0.2f\" % (scores_svm.mean(), scores_svm.std()))\n",
    "print(\"KNN %0.2f accuracy with a standard deviation of %0.2f using %d neighbors\" % (scores_knn9.mean(), scores_knn9.std(), 9))\n",
    "print(\"Tree %0.2f accuracy with a standard deviation of %0.2f \" % (scores_tree.mean(), scores_tree.std()))\n",
    "print(\"Gradient Boosting %0.2f accuracy with a standard deviation of %0.2f \" % (scores_clf.mean(), scores_clf.std()))"
   ]
  },
  {
   "cell_type": "code",
   "execution_count": null,
   "metadata": {},
   "outputs": [],
   "source": [
    "from sklearn.metrics import classification_report"
   ]
  },
  {
   "cell_type": "markdown",
   "metadata": {},
   "source": [
    "for i, c in enumerate(list(le.classes_)):\n",
    "    print(i, c)"
   ]
  },
  {
   "cell_type": "code",
   "execution_count": null,
   "metadata": {},
   "outputs": [],
   "source": [
    "print(classification_report(y_test, y_pred_lr))"
   ]
  },
  {
   "cell_type": "code",
   "execution_count": null,
   "metadata": {},
   "outputs": [],
   "source": [
    "print(classification_report(y_test, y_pred_svm))"
   ]
  },
  {
   "cell_type": "code",
   "execution_count": null,
   "metadata": {},
   "outputs": [],
   "source": [
    "print(classification_report(y_test, y_pred_knn9))"
   ]
  },
  {
   "cell_type": "code",
   "execution_count": null,
   "metadata": {},
   "outputs": [],
   "source": [
    "print(classification_report(y_test, y_pred_tree))"
   ]
  },
  {
   "cell_type": "code",
   "execution_count": null,
   "metadata": {},
   "outputs": [],
   "source": [
    "print(classification_report(y_test, y_pred_grad))"
   ]
  },
  {
   "cell_type": "code",
   "execution_count": null,
   "metadata": {},
   "outputs": [],
   "source": [
    "# !pip install mlxtend"
   ]
  },
  {
   "cell_type": "code",
   "execution_count": null,
   "metadata": {
    "scrolled": false
   },
   "outputs": [],
   "source": [
    "import warnings\n",
    "warnings.filterwarnings('ignore')\n",
    "\n",
    "from mlxtend.evaluate import paired_ttest_5x2cv\n",
    "methods = []\n",
    "methods.append([\"Logistic Regression\", lr])\n",
    "methods.append([\"SVM\", svm])\n",
    "methods.append([\"KNN\", knn9])\n",
    "methods.append([\"Decision Trees\", tree])\n",
    "methods.append([\"Gradient Boosting\", clf])\n",
    "\n",
    "for i in range(0, len(methods)):\n",
    "    for j in range(i+1, len(methods)):\n",
    "        t, p = paired_ttest_5x2cv(estimator1 = methods[i][1],\n",
    "                                  estimator2 = methods[j][1],\n",
    "                                  X=X_w2v, y=Y1,\n",
    "                                  random_seed=1)\n",
    "        print(str(methods[i][0]) + \" x \" + str(methods[j][0]))\n",
    "        print('t statistic: %.3f' % t)\n",
    "        print('p value: %.3f' % p)\n",
    "        print()"
   ]
  },
  {
   "cell_type": "code",
   "execution_count": null,
   "metadata": {},
   "outputs": [],
   "source": []
  }
 ],
 "metadata": {
  "kernelspec": {
   "display_name": "Python 3",
   "language": "python",
   "name": "python3"
  },
  "language_info": {
   "codemirror_mode": {
    "name": "ipython",
    "version": 3
   },
   "file_extension": ".py",
   "mimetype": "text/x-python",
   "name": "python",
   "nbconvert_exporter": "python",
   "pygments_lexer": "ipython3",
   "version": "3.8.5"
  }
 },
 "nbformat": 4,
 "nbformat_minor": 5
}
