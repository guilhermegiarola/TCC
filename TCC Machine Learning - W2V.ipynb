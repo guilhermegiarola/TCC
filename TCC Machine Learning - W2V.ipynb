{
 "cells": [
  {
   "cell_type": "code",
   "execution_count": 1,
   "metadata": {},
   "outputs": [],
   "source": [
    "import pandas as pd\n",
    "import numpy as np\n",
    "import io, re\n",
    "from unidecode import unidecode\n",
    "from gensim.models import KeyedVectors\n",
    "from nltk.tokenize import word_tokenize"
   ]
  },
  {
   "cell_type": "code",
   "execution_count": 2,
   "metadata": {},
   "outputs": [],
   "source": [
    "archive = \"Corpus.csv\""
   ]
  },
  {
   "cell_type": "code",
   "execution_count": 3,
   "metadata": {},
   "outputs": [],
   "source": [
    "with open(archive, 'r') as myfile:\n",
    "    data = myfile.read().encode('latin1').decode('utf8')\n",
    "    df = pd.read_csv(io.StringIO(re.sub('\"\\s*\\n','\"',data)), delimiter=',')"
   ]
  },
  {
   "cell_type": "code",
   "execution_count": 4,
   "metadata": {},
   "outputs": [
    {
     "data": {
      "text/html": [
       "<div>\n",
       "<style scoped>\n",
       "    .dataframe tbody tr th:only-of-type {\n",
       "        vertical-align: middle;\n",
       "    }\n",
       "\n",
       "    .dataframe tbody tr th {\n",
       "        vertical-align: top;\n",
       "    }\n",
       "\n",
       "    .dataframe thead th {\n",
       "        text-align: right;\n",
       "    }\n",
       "</style>\n",
       "<table border=\"1\" class=\"dataframe\">\n",
       "  <thead>\n",
       "    <tr style=\"text-align: right;\">\n",
       "      <th></th>\n",
       "      <th>#</th>\n",
       "      <th>Frases</th>\n",
       "      <th>Tipo</th>\n",
       "      <th>Resposta</th>\n",
       "      <th>Ação a ser Realizada</th>\n",
       "      <th>Ações Necessárias</th>\n",
       "    </tr>\n",
       "  </thead>\n",
       "  <tbody>\n",
       "    <tr>\n",
       "      <th>0</th>\n",
       "      <td>1</td>\n",
       "      <td>Ligar luz</td>\n",
       "      <td>Explicito</td>\n",
       "      <td>Acendendo a lâmpada.</td>\n",
       "      <td>Acender a Lâmpada</td>\n",
       "      <td>Acender a Lâmpada</td>\n",
       "    </tr>\n",
       "    <tr>\n",
       "      <th>1</th>\n",
       "      <td>2</td>\n",
       "      <td>Ligar a luz</td>\n",
       "      <td>Explicito</td>\n",
       "      <td>Acendendo a lâmpada.</td>\n",
       "      <td>Acender a Lâmpada</td>\n",
       "      <td>Apagar Lâmpada</td>\n",
       "    </tr>\n",
       "    <tr>\n",
       "      <th>2</th>\n",
       "      <td>3</td>\n",
       "      <td>Iluminar o ambiente</td>\n",
       "      <td>Implicito</td>\n",
       "      <td>Deseja acender a lâmpada?</td>\n",
       "      <td>Acender a Lâmpada</td>\n",
       "      <td>Ligar Ventilador</td>\n",
       "    </tr>\n",
       "    <tr>\n",
       "      <th>3</th>\n",
       "      <td>4</td>\n",
       "      <td>Já está claro o dia!</td>\n",
       "      <td>Implicito</td>\n",
       "      <td>Apagando a lâmpada.</td>\n",
       "      <td>Apagar Lâmpada</td>\n",
       "      <td>Desligar Ventilador</td>\n",
       "    </tr>\n",
       "    <tr>\n",
       "      <th>4</th>\n",
       "      <td>5</td>\n",
       "      <td>Vamos economizar energia?</td>\n",
       "      <td>Implicito</td>\n",
       "      <td>Deseja apagar a lâmpada?</td>\n",
       "      <td>Apagar Lâmpada</td>\n",
       "      <td>Ligar Televisão</td>\n",
       "    </tr>\n",
       "    <tr>\n",
       "      <th>5</th>\n",
       "      <td>6</td>\n",
       "      <td>Casa, apague a luz</td>\n",
       "      <td>Explicito</td>\n",
       "      <td>Apagando a lâmpada.</td>\n",
       "      <td>Apagar Lâmpada</td>\n",
       "      <td>Desligar Televisão</td>\n",
       "    </tr>\n",
       "    <tr>\n",
       "      <th>6</th>\n",
       "      <td>7</td>\n",
       "      <td>O ar está muito parado</td>\n",
       "      <td>Implicito</td>\n",
       "      <td>Ligando o ventilador.</td>\n",
       "      <td>Ligar Ventilador</td>\n",
       "      <td>Aumentar Volume</td>\n",
       "    </tr>\n",
       "    <tr>\n",
       "      <th>7</th>\n",
       "      <td>8</td>\n",
       "      <td>Está muito quente aqui</td>\n",
       "      <td>Implicito</td>\n",
       "      <td>Ligando o ventilador.</td>\n",
       "      <td>Ligar Ventilador</td>\n",
       "      <td>Diminuir Volume</td>\n",
       "    </tr>\n",
       "    <tr>\n",
       "      <th>8</th>\n",
       "      <td>9</td>\n",
       "      <td>Que calor!</td>\n",
       "      <td>Implicito</td>\n",
       "      <td>Deseja ligar o ventilador?</td>\n",
       "      <td>Ligar Ventilador</td>\n",
       "      <td>Mudar Canal</td>\n",
       "    </tr>\n",
       "    <tr>\n",
       "      <th>9</th>\n",
       "      <td>10</td>\n",
       "      <td>Está muito barulho, desligue o ventilador</td>\n",
       "      <td>Explicito</td>\n",
       "      <td>Desligando o ventilador.</td>\n",
       "      <td>Desligar Ventilador</td>\n",
       "      <td>NaN</td>\n",
       "    </tr>\n",
       "  </tbody>\n",
       "</table>\n",
       "</div>"
      ],
      "text/plain": [
       "    #                                     Frases       Tipo  \\\n",
       "0   1                                  Ligar luz  Explicito   \n",
       "1   2                                Ligar a luz  Explicito   \n",
       "2   3                        Iluminar o ambiente  Implicito   \n",
       "3   4                       Já está claro o dia!  Implicito   \n",
       "4   5                  Vamos economizar energia?  Implicito   \n",
       "5   6                         Casa, apague a luz  Explicito   \n",
       "6   7                     O ar está muito parado  Implicito   \n",
       "7   8                     Está muito quente aqui  Implicito   \n",
       "8   9                                 Que calor!  Implicito   \n",
       "9  10  Está muito barulho, desligue o ventilador  Explicito   \n",
       "\n",
       "                     Resposta Ação a ser Realizada    Ações Necessárias  \n",
       "0        Acendendo a lâmpada.    Acender a Lâmpada    Acender a Lâmpada  \n",
       "1        Acendendo a lâmpada.    Acender a Lâmpada       Apagar Lâmpada  \n",
       "2   Deseja acender a lâmpada?    Acender a Lâmpada     Ligar Ventilador  \n",
       "3         Apagando a lâmpada.       Apagar Lâmpada  Desligar Ventilador  \n",
       "4    Deseja apagar a lâmpada?       Apagar Lâmpada      Ligar Televisão  \n",
       "5         Apagando a lâmpada.       Apagar Lâmpada   Desligar Televisão  \n",
       "6       Ligando o ventilador.     Ligar Ventilador      Aumentar Volume  \n",
       "7       Ligando o ventilador.     Ligar Ventilador      Diminuir Volume  \n",
       "8  Deseja ligar o ventilador?     Ligar Ventilador          Mudar Canal  \n",
       "9    Desligando o ventilador.  Desligar Ventilador                  NaN  "
      ]
     },
     "execution_count": 4,
     "metadata": {},
     "output_type": "execute_result"
    }
   ],
   "source": [
    "df.head(10)"
   ]
  },
  {
   "cell_type": "code",
   "execution_count": 5,
   "metadata": {},
   "outputs": [],
   "source": [
    "df = df.drop(columns=['#', 'Ações Necessárias'])"
   ]
  },
  {
   "cell_type": "code",
   "execution_count": 6,
   "metadata": {},
   "outputs": [],
   "source": [
    "pd.set_option(\"display.max_rows\", None, \"display.max_columns\", None)"
   ]
  },
  {
   "cell_type": "code",
   "execution_count": 7,
   "metadata": {},
   "outputs": [],
   "source": [
    "df['Frases'] = df['Frases'].apply(unidecode)"
   ]
  },
  {
   "cell_type": "code",
   "execution_count": 8,
   "metadata": {},
   "outputs": [],
   "source": [
    "def replace_i(v):\n",
    "    return v.replace('í', 'i')"
   ]
  },
  {
   "cell_type": "code",
   "execution_count": 9,
   "metadata": {},
   "outputs": [],
   "source": [
    "df['Tipo'] = df['Tipo'].apply(replace_i)"
   ]
  },
  {
   "cell_type": "code",
   "execution_count": 10,
   "metadata": {},
   "outputs": [
    {
     "data": {
      "text/html": [
       "<div>\n",
       "<style scoped>\n",
       "    .dataframe tbody tr th:only-of-type {\n",
       "        vertical-align: middle;\n",
       "    }\n",
       "\n",
       "    .dataframe tbody tr th {\n",
       "        vertical-align: top;\n",
       "    }\n",
       "\n",
       "    .dataframe thead th {\n",
       "        text-align: right;\n",
       "    }\n",
       "</style>\n",
       "<table border=\"1\" class=\"dataframe\">\n",
       "  <thead>\n",
       "    <tr style=\"text-align: right;\">\n",
       "      <th></th>\n",
       "      <th>Frases</th>\n",
       "      <th>Tipo</th>\n",
       "      <th>Resposta</th>\n",
       "      <th>Ação a ser Realizada</th>\n",
       "    </tr>\n",
       "  </thead>\n",
       "  <tbody>\n",
       "    <tr>\n",
       "      <th>0</th>\n",
       "      <td>Ligar luz</td>\n",
       "      <td>Explicito</td>\n",
       "      <td>Acendendo a lâmpada.</td>\n",
       "      <td>Acender a Lâmpada</td>\n",
       "    </tr>\n",
       "    <tr>\n",
       "      <th>1</th>\n",
       "      <td>Ligar a luz</td>\n",
       "      <td>Explicito</td>\n",
       "      <td>Acendendo a lâmpada.</td>\n",
       "      <td>Acender a Lâmpada</td>\n",
       "    </tr>\n",
       "    <tr>\n",
       "      <th>2</th>\n",
       "      <td>Iluminar o ambiente</td>\n",
       "      <td>Implicito</td>\n",
       "      <td>Deseja acender a lâmpada?</td>\n",
       "      <td>Acender a Lâmpada</td>\n",
       "    </tr>\n",
       "    <tr>\n",
       "      <th>3</th>\n",
       "      <td>Ja esta claro o dia!</td>\n",
       "      <td>Implicito</td>\n",
       "      <td>Apagando a lâmpada.</td>\n",
       "      <td>Apagar Lâmpada</td>\n",
       "    </tr>\n",
       "    <tr>\n",
       "      <th>4</th>\n",
       "      <td>Vamos economizar energia?</td>\n",
       "      <td>Implicito</td>\n",
       "      <td>Deseja apagar a lâmpada?</td>\n",
       "      <td>Apagar Lâmpada</td>\n",
       "    </tr>\n",
       "  </tbody>\n",
       "</table>\n",
       "</div>"
      ],
      "text/plain": [
       "                      Frases       Tipo                   Resposta  \\\n",
       "0                  Ligar luz  Explicito       Acendendo a lâmpada.   \n",
       "1                Ligar a luz  Explicito       Acendendo a lâmpada.   \n",
       "2        Iluminar o ambiente  Implicito  Deseja acender a lâmpada?   \n",
       "3       Ja esta claro o dia!  Implicito        Apagando a lâmpada.   \n",
       "4  Vamos economizar energia?  Implicito   Deseja apagar a lâmpada?   \n",
       "\n",
       "  Ação a ser Realizada  \n",
       "0    Acender a Lâmpada  \n",
       "1    Acender a Lâmpada  \n",
       "2    Acender a Lâmpada  \n",
       "3       Apagar Lâmpada  \n",
       "4       Apagar Lâmpada  "
      ]
     },
     "execution_count": 10,
     "metadata": {},
     "output_type": "execute_result"
    }
   ],
   "source": [
    "df.head(5)"
   ]
  },
  {
   "cell_type": "raw",
   "metadata": {},
   "source": [
    "X = df['Frases'].tolist()\n",
    "Y1 = df['Ação a ser Realizada'].tolist()\n",
    "Y2 = df['Resposta'].tolist()\n",
    "Y3 = df['Tipo'].tolist()"
   ]
  },
  {
   "cell_type": "code",
   "execution_count": 11,
   "metadata": {},
   "outputs": [],
   "source": [
    "#Testando somente frases implícitas.\n",
    "filteredImplicit = df[df.Tipo == 'Explicito']\n",
    "X = filteredImplicit['Frases'].tolist()\n",
    "Y1 = filteredImplicit['Ação a ser Realizada'].tolist()\n",
    "Y2 = filteredImplicit['Resposta'].tolist()\n",
    "Y3 = filteredImplicit['Tipo'].tolist()"
   ]
  },
  {
   "cell_type": "markdown",
   "metadata": {},
   "source": [
    "len(set(Y1)), len(set(Y2)), len(set(Y3))"
   ]
  },
  {
   "cell_type": "markdown",
   "metadata": {},
   "source": [
    "# preprocessing data"
   ]
  },
  {
   "cell_type": "code",
   "execution_count": 12,
   "metadata": {},
   "outputs": [
    {
     "name": "stdout",
     "output_type": "stream",
     "text": [
      "Requirement already up-to-date: scikit-learn in c:\\users\\guilh\\anaconda3\\lib\\site-packages (0.24.1)\n",
      "Requirement already satisfied, skipping upgrade: numpy>=1.13.3 in c:\\users\\guilh\\anaconda3\\lib\\site-packages (from scikit-learn) (1.19.2)\n",
      "Requirement already satisfied, skipping upgrade: joblib>=0.11 in c:\\users\\guilh\\anaconda3\\lib\\site-packages (from scikit-learn) (0.17.0)\n",
      "Requirement already satisfied, skipping upgrade: scipy>=0.19.1 in c:\\users\\guilh\\anaconda3\\lib\\site-packages (from scikit-learn) (1.5.2)\n",
      "Requirement already satisfied, skipping upgrade: threadpoolctl>=2.0.0 in c:\\users\\guilh\\anaconda3\\lib\\site-packages (from scikit-learn) (2.1.0)\n",
      "Requirement already satisfied: gensim in c:\\users\\guilh\\anaconda3\\lib\\site-packages (3.8.3)\n",
      "Requirement already satisfied: smart-open>=1.8.1 in c:\\users\\guilh\\anaconda3\\lib\\site-packages (from gensim) (4.2.0)\n",
      "Requirement already satisfied: numpy>=1.11.3 in c:\\users\\guilh\\anaconda3\\lib\\site-packages (from gensim) (1.19.2)\n",
      "Requirement already satisfied: Cython==0.29.14 in c:\\users\\guilh\\anaconda3\\lib\\site-packages (from gensim) (0.29.14)\n",
      "Requirement already satisfied: six>=1.5.0 in c:\\users\\guilh\\anaconda3\\lib\\site-packages (from gensim) (1.15.0)\n",
      "Requirement already satisfied: scipy>=0.18.1 in c:\\users\\guilh\\anaconda3\\lib\\site-packages (from gensim) (1.5.2)\n",
      "Requirement already satisfied: nltk in c:\\users\\guilh\\anaconda3\\lib\\site-packages (3.5)\n",
      "Requirement already satisfied: click in c:\\users\\guilh\\anaconda3\\lib\\site-packages (from nltk) (7.1.2)\n",
      "Requirement already satisfied: joblib in c:\\users\\guilh\\anaconda3\\lib\\site-packages (from nltk) (0.17.0)\n",
      "Requirement already satisfied: tqdm in c:\\users\\guilh\\anaconda3\\lib\\site-packages (from nltk) (4.50.2)\n",
      "Requirement already satisfied: regex in c:\\users\\guilh\\anaconda3\\lib\\site-packages (from nltk) (2020.10.15)\n"
     ]
    }
   ],
   "source": [
    "!pip install -U scikit-learn\n",
    "\n",
    "!pip install gensim\n",
    "\n",
    "!pip install nltk"
   ]
  },
  {
   "cell_type": "code",
   "execution_count": 13,
   "metadata": {},
   "outputs": [],
   "source": [
    "from sklearn import preprocessing\n",
    "le = preprocessing.LabelEncoder()\n",
    "le.fit(Y1)\n",
    "\n",
    "Y1_encoded = le.transform(Y1)"
   ]
  },
  {
   "cell_type": "code",
   "execution_count": 14,
   "metadata": {},
   "outputs": [],
   "source": [
    "from sklearn.feature_extraction.text import TfidfVectorizer\n",
    "vectorizer = TfidfVectorizer()\n",
    "\n",
    "X_tfidf = vectorizer.fit_transform(X)"
   ]
  },
  {
   "cell_type": "markdown",
   "metadata": {},
   "source": [
    "# using word embeddings"
   ]
  },
  {
   "cell_type": "markdown",
   "metadata": {},
   "source": [
    "w2v = KeyedVectors.load_word2vec_format('glove_s100.txt')"
   ]
  },
  {
   "cell_type": "markdown",
   "metadata": {},
   "source": [
    "def transform_w2v(X):\n",
    "    X_w2v = []\n",
    "    for sentence in X:\n",
    "        tokens = word_tokenize(sentence)\n",
    "        vectors = []\n",
    "        for token in tokens:\n",
    "            try:\n",
    "                vectors.append(w2v.wv.get_vector(token.lower()))\n",
    "            except:\n",
    "                print(token)\n",
    "            \n",
    "        X_w2v.append(np.mean(vectors, axis=0))\n",
    "    return X_w2v\n",
    "\n",
    "X_w2v = transform_w2v(X)"
   ]
  },
  {
   "cell_type": "code",
   "execution_count": 15,
   "metadata": {},
   "outputs": [],
   "source": [
    "from sklearn.model_selection import train_test_split\n",
    "\n",
    "X_train, X_test, y_train, y_test = train_test_split(X_tfidf, Y1_encoded, test_size=0.25, random_state=42)"
   ]
  },
  {
   "cell_type": "markdown",
   "metadata": {},
   "source": [
    "# Experiments with classification algorithms"
   ]
  },
  {
   "cell_type": "code",
   "execution_count": 16,
   "metadata": {},
   "outputs": [],
   "source": [
    "from sklearn.model_selection import cross_val_score\n",
    "from sklearn.linear_model import LogisticRegression\n",
    "from sklearn.svm import SVC\n",
    "from sklearn.neighbors import KNeighborsClassifier\n",
    "from sklearn import tree\n",
    "from sklearn.ensemble import GradientBoostingClassifier\n",
    "from sklearn.metrics import plot_confusion_matrix"
   ]
  },
  {
   "cell_type": "code",
   "execution_count": 17,
   "metadata": {},
   "outputs": [],
   "source": [
    "lr = LogisticRegression(fit_intercept = False, C = 1e9)\n",
    "svm = SVC(random_state=0)\n",
    "knn9 = KNeighborsClassifier(n_neighbors=9)\n",
    "tree = tree.DecisionTreeClassifier()\n",
    "clf = GradientBoostingClassifier(n_estimators=50, learning_rate=1.0,\n",
    "                                max_depth=7, random_state=42).fit(X_train, y_train)"
   ]
  },
  {
   "cell_type": "code",
   "execution_count": 18,
   "metadata": {},
   "outputs": [],
   "source": [
    "lr.fit(X_train, y_train)\n",
    "svm.fit(X_train, y_train)\n",
    "knn9.fit(X_train, y_train)\n",
    "tree.fit(X_train, y_train)\n",
    "clf.fit(X_train, y_train)\n",
    "\n",
    "y_pred_lr = lr.predict(X_test)\n",
    "y_pred_svm = svm.predict(X_test)\n",
    "y_pred_knn9 = knn9.predict(X_test)\n",
    "y_pred_tree = tree.predict(X_test)\n",
    "y_pred_grad = clf.predict(X_test)"
   ]
  },
  {
   "cell_type": "code",
   "execution_count": 19,
   "metadata": {},
   "outputs": [
    {
     "name": "stdout",
     "output_type": "stream",
     "text": [
      "0.45\n"
     ]
    }
   ],
   "source": [
    "#Accuracy Tests\n",
    "counter = 0\n",
    "for it in range(0, len(y_pred_grad)):\n",
    "    if(y_test[it] == y_pred_grad[it]):\n",
    "        counter = counter + 1\n",
    "print(counter/len(y_pred_grad))"
   ]
  },
  {
   "cell_type": "code",
   "execution_count": null,
   "metadata": {},
   "outputs": [],
   "source": []
  },
  {
   "cell_type": "code",
   "execution_count": 20,
   "metadata": {
    "scrolled": true
   },
   "outputs": [
    {
     "data": {
      "text/plain": [
       "<sklearn.metrics._plot.confusion_matrix.ConfusionMatrixDisplay at 0x19c90367be0>"
      ]
     },
     "execution_count": 20,
     "metadata": {},
     "output_type": "execute_result"
    },
    {
     "data": {
      "image/png": "[encoded data removed]",
      "text/plain": [
       "<Figure size 432x288 with 2 Axes>"
      ]
     },
     "metadata": {
      "needs_background": "light"
     },
     "output_type": "display_data"
    },
    {
     "data": {
      "image/png": "[encoded data removed]",
      "text/plain": [
       "<Figure size 432x288 with 2 Axes>"
      ]
     },
     "metadata": {
      "needs_background": "light"
     },
     "output_type": "display_data"
    },
    {
     "data": {
      "image/png": "[encoded data removed]",
      "text/plain": [
       "<Figure size 432x288 with 2 Axes>"
      ]
     },
     "metadata": {
      "needs_background": "light"
     },
     "output_type": "display_data"
    },
    {
     "data": {
      "image/png": "[encoded data removed]",
      "text/plain": [
       "<Figure size 432x288 with 2 Axes>"
      ]
     },
     "metadata": {
      "needs_background": "light"
     },
     "output_type": "display_data"
    },
    {
     "data": {
      "image/png": "[encoded data removed]",
      "text/plain": [
       "<Figure size 432x288 with 2 Axes>"
      ]
     },
     "metadata": {
      "needs_background": "light"
     },
     "output_type": "display_data"
    }
   ],
   "source": [
    "plot_confusion_matrix(lr, X_test, y_test, normalize='true')\n",
    "plot_confusion_matrix(svm, X_test, y_test, normalize='true')\n",
    "plot_confusion_matrix(knn9, X_test, y_test, normalize='true')\n",
    "plot_confusion_matrix(tree, X_test, y_test, normalize='true')\n",
    "plot_confusion_matrix(clf, X_test, y_test, normalize='true')"
   ]
  },
  {
   "cell_type": "code",
   "execution_count": 21,
   "metadata": {},
   "outputs": [
    {
     "name": "stderr",
     "output_type": "stream",
     "text": [
      "C:\\Users\\guilh\\anaconda3\\lib\\site-packages\\sklearn\\model_selection\\_split.py:666: UserWarning: The least populated class in y has only 3 members, which is less than n_splits=5.\n",
      "  warnings.warn((\"The least populated class in y has only %d\"\n",
      "C:\\Users\\guilh\\anaconda3\\lib\\site-packages\\sklearn\\model_selection\\_split.py:666: UserWarning: The least populated class in y has only 3 members, which is less than n_splits=5.\n",
      "  warnings.warn((\"The least populated class in y has only %d\"\n",
      "C:\\Users\\guilh\\anaconda3\\lib\\site-packages\\sklearn\\model_selection\\_split.py:666: UserWarning: The least populated class in y has only 3 members, which is less than n_splits=5.\n",
      "  warnings.warn((\"The least populated class in y has only %d\"\n",
      "C:\\Users\\guilh\\anaconda3\\lib\\site-packages\\sklearn\\model_selection\\_split.py:666: UserWarning: The least populated class in y has only 3 members, which is less than n_splits=5.\n",
      "  warnings.warn((\"The least populated class in y has only %d\"\n",
      "C:\\Users\\guilh\\anaconda3\\lib\\site-packages\\sklearn\\model_selection\\_split.py:666: UserWarning: The least populated class in y has only 3 members, which is less than n_splits=5.\n",
      "  warnings.warn((\"The least populated class in y has only %d\"\n"
     ]
    }
   ],
   "source": [
    "scores_lr = cross_val_score(lr, X_train, y_train, cv=5)\n",
    "scores_svm = cross_val_score(svm, X_train, y_train, cv=5)\n",
    "scores_knn9 = cross_val_score(knn9, X_train, y_train, cv=5)\n",
    "scores_tree = cross_val_score(tree, X_train, y_train, cv=5)\n",
    "scores_clf = cross_val_score(clf, X_train, y_train, cv=5)"
   ]
  },
  {
   "cell_type": "code",
   "execution_count": 22,
   "metadata": {},
   "outputs": [
    {
     "name": "stdout",
     "output_type": "stream",
     "text": [
      "LR 0.68 accuracy with a standard deviation of 0.15\n",
      "SVM 0.56 accuracy with a standard deviation of 0.07\n",
      "KNN 0.51 accuracy with a standard deviation of 0.06 using 9 neighbors\n",
      "Tree 0.51 accuracy with a standard deviation of 0.13 \n",
      "Gradient Boosting 0.54 accuracy with a standard deviation of 0.06 \n"
     ]
    }
   ],
   "source": [
    "print(\"LR %0.2f accuracy with a standard deviation of %0.2f\" % (scores_lr.mean(), scores_lr.std()))\n",
    "print(\"SVM %0.2f accuracy with a standard deviation of %0.2f\" % (scores_svm.mean(), scores_svm.std()))\n",
    "print(\"KNN %0.2f accuracy with a standard deviation of %0.2f using %d neighbors\" % (scores_knn9.mean(), scores_knn9.std(), 9))\n",
    "print(\"Tree %0.2f accuracy with a standard deviation of %0.2f \" % (scores_tree.mean(), scores_tree.std()))\n",
    "print(\"Gradient Boosting %0.2f accuracy with a standard deviation of %0.2f \" % (scores_clf.mean(), scores_clf.std()))"
   ]
  },
  {
   "cell_type": "code",
   "execution_count": 23,
   "metadata": {},
   "outputs": [],
   "source": [
    "from sklearn.metrics import classification_report"
   ]
  },
  {
   "cell_type": "markdown",
   "metadata": {},
   "source": [
    "for i, c in enumerate(list(le.classes_)):\n",
    "    print(i, c)"
   ]
  },
  {
   "cell_type": "code",
   "execution_count": 24,
   "metadata": {},
   "outputs": [
    {
     "name": "stdout",
     "output_type": "stream",
     "text": [
      "              precision    recall  f1-score   support\n",
      "\n",
      "           0       0.40      0.67      0.50         3\n",
      "           1       0.00      0.00      0.00         2\n",
      "           2       1.00      0.50      0.67         2\n",
      "           3       1.00      0.50      0.67         2\n",
      "           4       0.50      1.00      0.67         2\n",
      "           5       0.33      1.00      0.50         1\n",
      "           6       1.00      1.00      1.00         2\n",
      "           7       1.00      0.33      0.50         3\n",
      "           8       1.00      0.67      0.80         3\n",
      "\n",
      "    accuracy                           0.60        20\n",
      "   macro avg       0.69      0.63      0.59        20\n",
      "weighted avg       0.73      0.60      0.59        20\n",
      "\n"
     ]
    }
   ],
   "source": [
    "print(classification_report(y_test, y_pred_lr))"
   ]
  },
  {
   "cell_type": "code",
   "execution_count": 25,
   "metadata": {},
   "outputs": [
    {
     "name": "stdout",
     "output_type": "stream",
     "text": [
      "              precision    recall  f1-score   support\n",
      "\n",
      "           0       0.50      0.67      0.57         3\n",
      "           1       0.00      0.00      0.00         2\n",
      "           2       0.00      0.00      0.00         2\n",
      "           3       0.00      0.00      0.00         2\n",
      "           4       0.33      0.50      0.40         2\n",
      "           5       0.14      1.00      0.25         1\n",
      "           6       0.50      1.00      0.67         2\n",
      "           7       0.00      0.00      0.00         3\n",
      "           8       1.00      0.33      0.50         3\n",
      "\n",
      "    accuracy                           0.35        20\n",
      "   macro avg       0.28      0.39      0.27        20\n",
      "weighted avg       0.32      0.35      0.28        20\n",
      "\n"
     ]
    },
    {
     "name": "stderr",
     "output_type": "stream",
     "text": [
      "C:\\Users\\guilh\\anaconda3\\lib\\site-packages\\sklearn\\metrics\\_classification.py:1245: UndefinedMetricWarning: Precision and F-score are ill-defined and being set to 0.0 in labels with no predicted samples. Use `zero_division` parameter to control this behavior.\n",
      "  _warn_prf(average, modifier, msg_start, len(result))\n",
      "C:\\Users\\guilh\\anaconda3\\lib\\site-packages\\sklearn\\metrics\\_classification.py:1245: UndefinedMetricWarning: Precision and F-score are ill-defined and being set to 0.0 in labels with no predicted samples. Use `zero_division` parameter to control this behavior.\n",
      "  _warn_prf(average, modifier, msg_start, len(result))\n",
      "C:\\Users\\guilh\\anaconda3\\lib\\site-packages\\sklearn\\metrics\\_classification.py:1245: UndefinedMetricWarning: Precision and F-score are ill-defined and being set to 0.0 in labels with no predicted samples. Use `zero_division` parameter to control this behavior.\n",
      "  _warn_prf(average, modifier, msg_start, len(result))\n"
     ]
    }
   ],
   "source": [
    "print(classification_report(y_test, y_pred_svm))"
   ]
  },
  {
   "cell_type": "code",
   "execution_count": 26,
   "metadata": {},
   "outputs": [
    {
     "name": "stdout",
     "output_type": "stream",
     "text": [
      "              precision    recall  f1-score   support\n",
      "\n",
      "           0       0.50      0.67      0.57         3\n",
      "           1       0.00      0.00      0.00         2\n",
      "           2       0.50      0.50      0.50         2\n",
      "           3       1.00      0.50      0.67         2\n",
      "           4       0.33      1.00      0.50         2\n",
      "           5       0.50      1.00      0.67         1\n",
      "           6       0.67      1.00      0.80         2\n",
      "           7       0.00      0.00      0.00         3\n",
      "           8       1.00      0.33      0.50         3\n",
      "\n",
      "    accuracy                           0.50        20\n",
      "   macro avg       0.50      0.56      0.47        20\n",
      "weighted avg       0.50      0.50      0.44        20\n",
      "\n"
     ]
    },
    {
     "name": "stderr",
     "output_type": "stream",
     "text": [
      "C:\\Users\\guilh\\anaconda3\\lib\\site-packages\\sklearn\\metrics\\_classification.py:1245: UndefinedMetricWarning: Precision and F-score are ill-defined and being set to 0.0 in labels with no predicted samples. Use `zero_division` parameter to control this behavior.\n",
      "  _warn_prf(average, modifier, msg_start, len(result))\n",
      "C:\\Users\\guilh\\anaconda3\\lib\\site-packages\\sklearn\\metrics\\_classification.py:1245: UndefinedMetricWarning: Precision and F-score are ill-defined and being set to 0.0 in labels with no predicted samples. Use `zero_division` parameter to control this behavior.\n",
      "  _warn_prf(average, modifier, msg_start, len(result))\n",
      "C:\\Users\\guilh\\anaconda3\\lib\\site-packages\\sklearn\\metrics\\_classification.py:1245: UndefinedMetricWarning: Precision and F-score are ill-defined and being set to 0.0 in labels with no predicted samples. Use `zero_division` parameter to control this behavior.\n",
      "  _warn_prf(average, modifier, msg_start, len(result))\n"
     ]
    }
   ],
   "source": [
    "print(classification_report(y_test, y_pred_knn9))"
   ]
  },
  {
   "cell_type": "code",
   "execution_count": 27,
   "metadata": {},
   "outputs": [
    {
     "name": "stdout",
     "output_type": "stream",
     "text": [
      "              precision    recall  f1-score   support\n",
      "\n",
      "           0       0.50      0.67      0.57         3\n",
      "           1       0.00      0.00      0.00         2\n",
      "           2       0.00      0.00      0.00         2\n",
      "           3       0.00      0.00      0.00         2\n",
      "           4       0.50      1.00      0.67         2\n",
      "           5       0.00      0.00      0.00         1\n",
      "           6       1.00      1.00      1.00         2\n",
      "           7       0.20      0.33      0.25         3\n",
      "           8       1.00      0.33      0.50         3\n",
      "\n",
      "    accuracy                           0.40        20\n",
      "   macro avg       0.36      0.37      0.33        20\n",
      "weighted avg       0.40      0.40      0.36        20\n",
      "\n"
     ]
    },
    {
     "name": "stderr",
     "output_type": "stream",
     "text": [
      "C:\\Users\\guilh\\anaconda3\\lib\\site-packages\\sklearn\\metrics\\_classification.py:1245: UndefinedMetricWarning: Precision and F-score are ill-defined and being set to 0.0 in labels with no predicted samples. Use `zero_division` parameter to control this behavior.\n",
      "  _warn_prf(average, modifier, msg_start, len(result))\n",
      "C:\\Users\\guilh\\anaconda3\\lib\\site-packages\\sklearn\\metrics\\_classification.py:1245: UndefinedMetricWarning: Precision and F-score are ill-defined and being set to 0.0 in labels with no predicted samples. Use `zero_division` parameter to control this behavior.\n",
      "  _warn_prf(average, modifier, msg_start, len(result))\n",
      "C:\\Users\\guilh\\anaconda3\\lib\\site-packages\\sklearn\\metrics\\_classification.py:1245: UndefinedMetricWarning: Precision and F-score are ill-defined and being set to 0.0 in labels with no predicted samples. Use `zero_division` parameter to control this behavior.\n",
      "  _warn_prf(average, modifier, msg_start, len(result))\n"
     ]
    }
   ],
   "source": [
    "print(classification_report(y_test, y_pred_tree))"
   ]
  },
  {
   "cell_type": "code",
   "execution_count": 28,
   "metadata": {},
   "outputs": [
    {
     "name": "stdout",
     "output_type": "stream",
     "text": [
      "              precision    recall  f1-score   support\n",
      "\n",
      "           0       0.50      0.67      0.57         3\n",
      "           1       0.00      0.00      0.00         2\n",
      "           2       0.00      0.00      0.00         2\n",
      "           3       0.50      0.50      0.50         2\n",
      "           4       0.50      1.00      0.67         2\n",
      "           5       0.25      1.00      0.40         1\n",
      "           6       0.50      0.50      0.50         2\n",
      "           7       1.00      0.33      0.50         3\n",
      "           8       1.00      0.33      0.50         3\n",
      "\n",
      "    accuracy                           0.45        20\n",
      "   macro avg       0.47      0.48      0.40        20\n",
      "weighted avg       0.54      0.45      0.42        20\n",
      "\n"
     ]
    }
   ],
   "source": [
    "print(classification_report(y_test, y_pred_grad))"
   ]
  },
  {
   "cell_type": "code",
   "execution_count": null,
   "metadata": {},
   "outputs": [],
   "source": []
  },
  {
   "cell_type": "code",
   "execution_count": null,
   "metadata": {},
   "outputs": [],
   "source": []
  }
 ],
 "metadata": {
  "kernelspec": {
   "display_name": "Python 3",
   "language": "python",
   "name": "python3"
  },
  "language_info": {
   "codemirror_mode": {
    "name": "ipython",
    "version": 3
   },
   "file_extension": ".py",
   "mimetype": "text/x-python",
   "name": "python",
   "nbconvert_exporter": "python",
   "pygments_lexer": "ipython3",
   "version": "3.8.5"
  }
 },
 "nbformat": 4,
 "nbformat_minor": 5
}
